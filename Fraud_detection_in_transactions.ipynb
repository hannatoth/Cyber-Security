{
  "cells": [
    {
      "cell_type": "code",
      "execution_count": 1,
      "metadata": {
        "colab": {},
        "colab_type": "code",
        "id": "9SW6U0SvYChM"
      },
      "outputs": [],
      "source": [
        "import numpy as np\n",
        "import pandas as pd\n",
        "\n",
        "import matplotlib.pyplot as plt\n",
        "import seaborn as sns\n"
      ]
    },
    {
      "cell_type": "code",
      "execution_count": 2,
      "metadata": {
        "colab": {
          "base_uri": "https://localhost:8080/",
          "height": 68
        },
        "colab_type": "code",
        "id": "TZME7Dc-YT3m",
        "outputId": "78207368-89c7-410c-d39f-1312b67eed70"
      },
      "outputs": [
        {
          "name": "stdout",
          "output_type": "stream",
          "text": [
            "(6362620, 11)\n"
          ]
        }
      ],
      "source": [
        "# importing the dataset using dask\n",
        "# Dask can process data that doesn't fit into memory by breaking it down \n",
        "# into smaller, manageable chunks and processing these chunks in parallel.\n",
        "\n",
        "data = pd.read_csv('/Users/tothhannapanna/Desktop/Project Portfolio/Cyber Security/Fraud Detection in transactions/Fraud_log.csv')\n",
        "\n",
        "print(data.shape)"
      ]
    },
    {
      "cell_type": "code",
      "execution_count": 3,
      "metadata": {
        "colab": {
          "base_uri": "https://localhost:8080/",
          "height": 514
        },
        "colab_type": "code",
        "id": "1ciAPU4JYdJG",
        "outputId": "912a372d-2f74-45a0-e471-b110575856d9"
      },
      "outputs": [
        {
          "data": {
            "text/html": [
              "<div>\n",
              "<style scoped>\n",
              "    .dataframe tbody tr th:only-of-type {\n",
              "        vertical-align: middle;\n",
              "    }\n",
              "\n",
              "    .dataframe tbody tr th {\n",
              "        vertical-align: top;\n",
              "    }\n",
              "\n",
              "    .dataframe thead th {\n",
              "        text-align: right;\n",
              "    }\n",
              "</style>\n",
              "<table border=\"1\" class=\"dataframe\">\n",
              "  <thead>\n",
              "    <tr style=\"text-align: right;\">\n",
              "      <th></th>\n",
              "      <th>step</th>\n",
              "      <th>type</th>\n",
              "      <th>amount</th>\n",
              "      <th>nameOrig</th>\n",
              "      <th>oldbalanceOrg</th>\n",
              "      <th>newbalanceOrig</th>\n",
              "      <th>nameDest</th>\n",
              "      <th>oldbalanceDest</th>\n",
              "      <th>newbalanceDest</th>\n",
              "      <th>isFraud</th>\n",
              "      <th>isFlaggedFraud</th>\n",
              "    </tr>\n",
              "  </thead>\n",
              "  <tbody>\n",
              "    <tr>\n",
              "      <th>74247</th>\n",
              "      <td>10</td>\n",
              "      <td>CASH_IN</td>\n",
              "      <td>702363.89</td>\n",
              "      <td>C194439854</td>\n",
              "      <td>2255173.81</td>\n",
              "      <td>2957537.70</td>\n",
              "      <td>C2078011503</td>\n",
              "      <td>1873190.85</td>\n",
              "      <td>1342688.22</td>\n",
              "      <td>0</td>\n",
              "      <td>0</td>\n",
              "    </tr>\n",
              "    <tr>\n",
              "      <th>3272373</th>\n",
              "      <td>251</td>\n",
              "      <td>CASH_IN</td>\n",
              "      <td>104826.78</td>\n",
              "      <td>C808481070</td>\n",
              "      <td>0.00</td>\n",
              "      <td>104826.78</td>\n",
              "      <td>C1595173915</td>\n",
              "      <td>272496.39</td>\n",
              "      <td>167669.61</td>\n",
              "      <td>0</td>\n",
              "      <td>0</td>\n",
              "    </tr>\n",
              "    <tr>\n",
              "      <th>1618592</th>\n",
              "      <td>157</td>\n",
              "      <td>CASH_IN</td>\n",
              "      <td>203485.33</td>\n",
              "      <td>C151107797</td>\n",
              "      <td>290.00</td>\n",
              "      <td>203775.33</td>\n",
              "      <td>C1899055666</td>\n",
              "      <td>0.00</td>\n",
              "      <td>0.00</td>\n",
              "      <td>0</td>\n",
              "      <td>0</td>\n",
              "    </tr>\n",
              "    <tr>\n",
              "      <th>3314952</th>\n",
              "      <td>252</td>\n",
              "      <td>TRANSFER</td>\n",
              "      <td>908328.30</td>\n",
              "      <td>C608237786</td>\n",
              "      <td>10604.00</td>\n",
              "      <td>0.00</td>\n",
              "      <td>C1910563557</td>\n",
              "      <td>57145.99</td>\n",
              "      <td>965474.28</td>\n",
              "      <td>0</td>\n",
              "      <td>0</td>\n",
              "    </tr>\n",
              "    <tr>\n",
              "      <th>6087562</th>\n",
              "      <td>522</td>\n",
              "      <td>CASH_OUT</td>\n",
              "      <td>2437.38</td>\n",
              "      <td>C650663061</td>\n",
              "      <td>49772.00</td>\n",
              "      <td>47334.62</td>\n",
              "      <td>C523604111</td>\n",
              "      <td>494714.42</td>\n",
              "      <td>497151.80</td>\n",
              "      <td>0</td>\n",
              "      <td>0</td>\n",
              "    </tr>\n",
              "    <tr>\n",
              "      <th>744956</th>\n",
              "      <td>38</td>\n",
              "      <td>PAYMENT</td>\n",
              "      <td>6983.64</td>\n",
              "      <td>C662979492</td>\n",
              "      <td>10130.00</td>\n",
              "      <td>3146.36</td>\n",
              "      <td>M418385479</td>\n",
              "      <td>0.00</td>\n",
              "      <td>0.00</td>\n",
              "      <td>0</td>\n",
              "      <td>0</td>\n",
              "    </tr>\n",
              "    <tr>\n",
              "      <th>3520055</th>\n",
              "      <td>259</td>\n",
              "      <td>CASH_IN</td>\n",
              "      <td>97582.10</td>\n",
              "      <td>C263361712</td>\n",
              "      <td>727841.56</td>\n",
              "      <td>825423.66</td>\n",
              "      <td>C648948278</td>\n",
              "      <td>457549.99</td>\n",
              "      <td>359967.89</td>\n",
              "      <td>0</td>\n",
              "      <td>0</td>\n",
              "    </tr>\n",
              "    <tr>\n",
              "      <th>2277509</th>\n",
              "      <td>187</td>\n",
              "      <td>CASH_IN</td>\n",
              "      <td>30479.33</td>\n",
              "      <td>C1844965216</td>\n",
              "      <td>1876360.58</td>\n",
              "      <td>1906839.91</td>\n",
              "      <td>C1225507744</td>\n",
              "      <td>1892644.82</td>\n",
              "      <td>1862165.49</td>\n",
              "      <td>0</td>\n",
              "      <td>0</td>\n",
              "    </tr>\n",
              "    <tr>\n",
              "      <th>1213250</th>\n",
              "      <td>133</td>\n",
              "      <td>CASH_OUT</td>\n",
              "      <td>16909.47</td>\n",
              "      <td>C1480549775</td>\n",
              "      <td>29561.00</td>\n",
              "      <td>12651.53</td>\n",
              "      <td>C1672533465</td>\n",
              "      <td>2293786.18</td>\n",
              "      <td>2310695.65</td>\n",
              "      <td>0</td>\n",
              "      <td>0</td>\n",
              "    </tr>\n",
              "    <tr>\n",
              "      <th>4370452</th>\n",
              "      <td>310</td>\n",
              "      <td>CASH_IN</td>\n",
              "      <td>327355.62</td>\n",
              "      <td>C44417191</td>\n",
              "      <td>9565197.58</td>\n",
              "      <td>9892553.20</td>\n",
              "      <td>C1463427470</td>\n",
              "      <td>2881934.84</td>\n",
              "      <td>2554579.22</td>\n",
              "      <td>0</td>\n",
              "      <td>0</td>\n",
              "    </tr>\n",
              "    <tr>\n",
              "      <th>3816727</th>\n",
              "      <td>281</td>\n",
              "      <td>CASH_OUT</td>\n",
              "      <td>284400.95</td>\n",
              "      <td>C762555065</td>\n",
              "      <td>0.00</td>\n",
              "      <td>0.00</td>\n",
              "      <td>C1429583855</td>\n",
              "      <td>496535.94</td>\n",
              "      <td>780936.88</td>\n",
              "      <td>0</td>\n",
              "      <td>0</td>\n",
              "    </tr>\n",
              "    <tr>\n",
              "      <th>2674035</th>\n",
              "      <td>210</td>\n",
              "      <td>PAYMENT</td>\n",
              "      <td>16252.92</td>\n",
              "      <td>C888006992</td>\n",
              "      <td>0.00</td>\n",
              "      <td>0.00</td>\n",
              "      <td>M1996002307</td>\n",
              "      <td>0.00</td>\n",
              "      <td>0.00</td>\n",
              "      <td>0</td>\n",
              "      <td>0</td>\n",
              "    </tr>\n",
              "    <tr>\n",
              "      <th>3588602</th>\n",
              "      <td>262</td>\n",
              "      <td>PAYMENT</td>\n",
              "      <td>3068.69</td>\n",
              "      <td>C928260828</td>\n",
              "      <td>62420.00</td>\n",
              "      <td>59351.31</td>\n",
              "      <td>M2123936914</td>\n",
              "      <td>0.00</td>\n",
              "      <td>0.00</td>\n",
              "      <td>0</td>\n",
              "      <td>0</td>\n",
              "    </tr>\n",
              "    <tr>\n",
              "      <th>1636588</th>\n",
              "      <td>157</td>\n",
              "      <td>PAYMENT</td>\n",
              "      <td>19838.83</td>\n",
              "      <td>C715503215</td>\n",
              "      <td>111154.25</td>\n",
              "      <td>91315.42</td>\n",
              "      <td>M61799909</td>\n",
              "      <td>0.00</td>\n",
              "      <td>0.00</td>\n",
              "      <td>0</td>\n",
              "      <td>0</td>\n",
              "    </tr>\n",
              "    <tr>\n",
              "      <th>6213823</th>\n",
              "      <td>588</td>\n",
              "      <td>CASH_OUT</td>\n",
              "      <td>29915.03</td>\n",
              "      <td>C1624830080</td>\n",
              "      <td>0.00</td>\n",
              "      <td>0.00</td>\n",
              "      <td>C673782803</td>\n",
              "      <td>184502.14</td>\n",
              "      <td>214417.17</td>\n",
              "      <td>0</td>\n",
              "      <td>0</td>\n",
              "    </tr>\n",
              "  </tbody>\n",
              "</table>\n",
              "</div>"
            ],
            "text/plain": [
              "         step      type     amount     nameOrig  oldbalanceOrg  \\\n",
              "74247      10   CASH_IN  702363.89   C194439854     2255173.81   \n",
              "3272373   251   CASH_IN  104826.78   C808481070           0.00   \n",
              "1618592   157   CASH_IN  203485.33   C151107797         290.00   \n",
              "3314952   252  TRANSFER  908328.30   C608237786       10604.00   \n",
              "6087562   522  CASH_OUT    2437.38   C650663061       49772.00   \n",
              "744956     38   PAYMENT    6983.64   C662979492       10130.00   \n",
              "3520055   259   CASH_IN   97582.10   C263361712      727841.56   \n",
              "2277509   187   CASH_IN   30479.33  C1844965216     1876360.58   \n",
              "1213250   133  CASH_OUT   16909.47  C1480549775       29561.00   \n",
              "4370452   310   CASH_IN  327355.62    C44417191     9565197.58   \n",
              "3816727   281  CASH_OUT  284400.95   C762555065           0.00   \n",
              "2674035   210   PAYMENT   16252.92   C888006992           0.00   \n",
              "3588602   262   PAYMENT    3068.69   C928260828       62420.00   \n",
              "1636588   157   PAYMENT   19838.83   C715503215      111154.25   \n",
              "6213823   588  CASH_OUT   29915.03  C1624830080           0.00   \n",
              "\n",
              "         newbalanceOrig     nameDest  oldbalanceDest  newbalanceDest  isFraud  \\\n",
              "74247        2957537.70  C2078011503      1873190.85      1342688.22        0   \n",
              "3272373       104826.78  C1595173915       272496.39       167669.61        0   \n",
              "1618592       203775.33  C1899055666            0.00            0.00        0   \n",
              "3314952            0.00  C1910563557        57145.99       965474.28        0   \n",
              "6087562        47334.62   C523604111       494714.42       497151.80        0   \n",
              "744956          3146.36   M418385479            0.00            0.00        0   \n",
              "3520055       825423.66   C648948278       457549.99       359967.89        0   \n",
              "2277509      1906839.91  C1225507744      1892644.82      1862165.49        0   \n",
              "1213250        12651.53  C1672533465      2293786.18      2310695.65        0   \n",
              "4370452      9892553.20  C1463427470      2881934.84      2554579.22        0   \n",
              "3816727            0.00  C1429583855       496535.94       780936.88        0   \n",
              "2674035            0.00  M1996002307            0.00            0.00        0   \n",
              "3588602        59351.31  M2123936914            0.00            0.00        0   \n",
              "1636588        91315.42    M61799909            0.00            0.00        0   \n",
              "6213823            0.00   C673782803       184502.14       214417.17        0   \n",
              "\n",
              "         isFlaggedFraud  \n",
              "74247                 0  \n",
              "3272373               0  \n",
              "1618592               0  \n",
              "3314952               0  \n",
              "6087562               0  \n",
              "744956                0  \n",
              "3520055               0  \n",
              "2277509               0  \n",
              "1213250               0  \n",
              "4370452               0  \n",
              "3816727               0  \n",
              "2674035               0  \n",
              "3588602               0  \n",
              "1636588               0  \n",
              "6213823               0  "
            ]
          },
          "execution_count": 3,
          "metadata": {},
          "output_type": "execute_result"
        }
      ],
      "source": [
        "data.sample(15)"
      ]
    },
    {
      "cell_type": "code",
      "execution_count": 4,
      "metadata": {
        "colab": {
          "base_uri": "https://localhost:8080/",
          "height": 289
        },
        "colab_type": "code",
        "id": "5NfdLQ2zY7V2",
        "outputId": "437260b9-aaef-4792-cc66-bd27010466f7"
      },
      "outputs": [
        {
          "name": "stdout",
          "output_type": "stream",
          "text": [
            "<class 'pandas.core.frame.DataFrame'>\n",
            "RangeIndex: 6362620 entries, 0 to 6362619\n",
            "Data columns (total 11 columns):\n",
            " #   Column          Dtype  \n",
            "---  ------          -----  \n",
            " 0   step            int64  \n",
            " 1   type            object \n",
            " 2   amount          float64\n",
            " 3   nameOrig        object \n",
            " 4   oldbalanceOrg   float64\n",
            " 5   newbalanceOrig  float64\n",
            " 6   nameDest        object \n",
            " 7   oldbalanceDest  float64\n",
            " 8   newbalanceDest  float64\n",
            " 9   isFraud         int64  \n",
            " 10  isFlaggedFraud  int64  \n",
            "dtypes: float64(5), int64(3), object(3)\n",
            "memory usage: 534.0+ MB\n"
          ]
        }
      ],
      "source": [
        "data.info()"
      ]
    },
    {
      "cell_type": "code",
      "execution_count": 5,
      "metadata": {
        "colab": {
          "base_uri": "https://localhost:8080/",
          "height": 297
        },
        "colab_type": "code",
        "id": "GYdQB-qUY9iR",
        "outputId": "2c81494a-5b95-44a7-f07a-1bccbbc651d2"
      },
      "outputs": [
        {
          "data": {
            "text/html": [
              "<div>\n",
              "<style scoped>\n",
              "    .dataframe tbody tr th:only-of-type {\n",
              "        vertical-align: middle;\n",
              "    }\n",
              "\n",
              "    .dataframe tbody tr th {\n",
              "        vertical-align: top;\n",
              "    }\n",
              "\n",
              "    .dataframe thead th {\n",
              "        text-align: right;\n",
              "    }\n",
              "</style>\n",
              "<table border=\"1\" class=\"dataframe\">\n",
              "  <thead>\n",
              "    <tr style=\"text-align: right;\">\n",
              "      <th></th>\n",
              "      <th>step</th>\n",
              "      <th>amount</th>\n",
              "      <th>oldbalanceOrg</th>\n",
              "      <th>newbalanceOrig</th>\n",
              "      <th>oldbalanceDest</th>\n",
              "      <th>newbalanceDest</th>\n",
              "      <th>isFraud</th>\n",
              "      <th>isFlaggedFraud</th>\n",
              "    </tr>\n",
              "  </thead>\n",
              "  <tbody>\n",
              "    <tr>\n",
              "      <th>count</th>\n",
              "      <td>6.362620e+06</td>\n",
              "      <td>6.362620e+06</td>\n",
              "      <td>6.362620e+06</td>\n",
              "      <td>6.362620e+06</td>\n",
              "      <td>6.362620e+06</td>\n",
              "      <td>6.362620e+06</td>\n",
              "      <td>6.362620e+06</td>\n",
              "      <td>6.362620e+06</td>\n",
              "    </tr>\n",
              "    <tr>\n",
              "      <th>mean</th>\n",
              "      <td>2.433972e+02</td>\n",
              "      <td>1.798619e+05</td>\n",
              "      <td>8.338831e+05</td>\n",
              "      <td>8.551137e+05</td>\n",
              "      <td>1.100702e+06</td>\n",
              "      <td>1.224996e+06</td>\n",
              "      <td>1.290820e-03</td>\n",
              "      <td>2.514687e-06</td>\n",
              "    </tr>\n",
              "    <tr>\n",
              "      <th>std</th>\n",
              "      <td>1.423320e+02</td>\n",
              "      <td>6.038582e+05</td>\n",
              "      <td>2.888243e+06</td>\n",
              "      <td>2.924049e+06</td>\n",
              "      <td>3.399180e+06</td>\n",
              "      <td>3.674129e+06</td>\n",
              "      <td>3.590480e-02</td>\n",
              "      <td>1.585775e-03</td>\n",
              "    </tr>\n",
              "    <tr>\n",
              "      <th>min</th>\n",
              "      <td>1.000000e+00</td>\n",
              "      <td>0.000000e+00</td>\n",
              "      <td>0.000000e+00</td>\n",
              "      <td>0.000000e+00</td>\n",
              "      <td>0.000000e+00</td>\n",
              "      <td>0.000000e+00</td>\n",
              "      <td>0.000000e+00</td>\n",
              "      <td>0.000000e+00</td>\n",
              "    </tr>\n",
              "    <tr>\n",
              "      <th>25%</th>\n",
              "      <td>1.560000e+02</td>\n",
              "      <td>1.338957e+04</td>\n",
              "      <td>0.000000e+00</td>\n",
              "      <td>0.000000e+00</td>\n",
              "      <td>0.000000e+00</td>\n",
              "      <td>0.000000e+00</td>\n",
              "      <td>0.000000e+00</td>\n",
              "      <td>0.000000e+00</td>\n",
              "    </tr>\n",
              "    <tr>\n",
              "      <th>50%</th>\n",
              "      <td>2.390000e+02</td>\n",
              "      <td>7.487194e+04</td>\n",
              "      <td>1.420800e+04</td>\n",
              "      <td>0.000000e+00</td>\n",
              "      <td>1.327057e+05</td>\n",
              "      <td>2.146614e+05</td>\n",
              "      <td>0.000000e+00</td>\n",
              "      <td>0.000000e+00</td>\n",
              "    </tr>\n",
              "    <tr>\n",
              "      <th>75%</th>\n",
              "      <td>3.350000e+02</td>\n",
              "      <td>2.087215e+05</td>\n",
              "      <td>1.073152e+05</td>\n",
              "      <td>1.442584e+05</td>\n",
              "      <td>9.430367e+05</td>\n",
              "      <td>1.111909e+06</td>\n",
              "      <td>0.000000e+00</td>\n",
              "      <td>0.000000e+00</td>\n",
              "    </tr>\n",
              "    <tr>\n",
              "      <th>max</th>\n",
              "      <td>7.430000e+02</td>\n",
              "      <td>9.244552e+07</td>\n",
              "      <td>5.958504e+07</td>\n",
              "      <td>4.958504e+07</td>\n",
              "      <td>3.560159e+08</td>\n",
              "      <td>3.561793e+08</td>\n",
              "      <td>1.000000e+00</td>\n",
              "      <td>1.000000e+00</td>\n",
              "    </tr>\n",
              "  </tbody>\n",
              "</table>\n",
              "</div>"
            ],
            "text/plain": [
              "               step        amount  oldbalanceOrg  newbalanceOrig  \\\n",
              "count  6.362620e+06  6.362620e+06   6.362620e+06    6.362620e+06   \n",
              "mean   2.433972e+02  1.798619e+05   8.338831e+05    8.551137e+05   \n",
              "std    1.423320e+02  6.038582e+05   2.888243e+06    2.924049e+06   \n",
              "min    1.000000e+00  0.000000e+00   0.000000e+00    0.000000e+00   \n",
              "25%    1.560000e+02  1.338957e+04   0.000000e+00    0.000000e+00   \n",
              "50%    2.390000e+02  7.487194e+04   1.420800e+04    0.000000e+00   \n",
              "75%    3.350000e+02  2.087215e+05   1.073152e+05    1.442584e+05   \n",
              "max    7.430000e+02  9.244552e+07   5.958504e+07    4.958504e+07   \n",
              "\n",
              "       oldbalanceDest  newbalanceDest       isFraud  isFlaggedFraud  \n",
              "count    6.362620e+06    6.362620e+06  6.362620e+06    6.362620e+06  \n",
              "mean     1.100702e+06    1.224996e+06  1.290820e-03    2.514687e-06  \n",
              "std      3.399180e+06    3.674129e+06  3.590480e-02    1.585775e-03  \n",
              "min      0.000000e+00    0.000000e+00  0.000000e+00    0.000000e+00  \n",
              "25%      0.000000e+00    0.000000e+00  0.000000e+00    0.000000e+00  \n",
              "50%      1.327057e+05    2.146614e+05  0.000000e+00    0.000000e+00  \n",
              "75%      9.430367e+05    1.111909e+06  0.000000e+00    0.000000e+00  \n",
              "max      3.560159e+08    3.561793e+08  1.000000e+00    1.000000e+00  "
            ]
          },
          "execution_count": 5,
          "metadata": {},
          "output_type": "execute_result"
        }
      ],
      "source": [
        "#summary of the central tendency, dispersion, and shape of a dataset's \n",
        "# distribution, excluding NaN values.\n",
        "data.describe()"
      ]
    },
    {
      "cell_type": "code",
      "execution_count": 6,
      "metadata": {
        "colab": {
          "base_uri": "https://localhost:8080/",
          "height": 68
        },
        "colab_type": "code",
        "id": "NKho3e1daDaf",
        "outputId": "2598563c-77fe-494f-dc47-269dccae4887"
      },
      "outputs": [
        {
          "data": {
            "text/plain": [
              "0    6354407\n",
              "1       8213\n",
              "Name: isFraud, dtype: int64"
            ]
          },
          "execution_count": 6,
          "metadata": {},
          "output_type": "execute_result"
        }
      ],
      "source": [
        "# number of frauds in dataset\n",
        "# 0 - nonfraudulent 1 - fraudulent\n",
        "\n",
        "data['isFraud'].value_counts()"
      ]
    },
    {
      "cell_type": "code",
      "execution_count": 7,
      "metadata": {
        "colab": {
          "base_uri": "https://localhost:8080/",
          "height": 596
        },
        "colab_type": "code",
        "id": "dJmgFe13btOE",
        "outputId": "e96ed4e3-5375-4207-cac4-dcf7d216a595"
      },
      "outputs": [
        {
          "data": {
            "image/png": "[encoded data removed]",
            "text/plain": [
              "<Figure size 1000x1000 with 1 Axes>"
            ]
          },
          "metadata": {},
          "output_type": "display_data"
        }
      ],
      "source": [
        "# The proportion of frauds amongst transactions 6354407, 8213\n",
        "\n",
        "labels = ['Not a Fraud', 'Fraud']\n",
        "colors = ['pink', 'black']\n",
        "size = [6354407, 8213]\n",
        "explode = [0.1, 0.21]\n",
        "\n",
        "plt.rcParams['figure.figsize'] = (10, 10)\n",
        "plt.pie(size, labels = labels, colors = colors, explode = explode, shadow = True)\n",
        "plt.axis('off')\n",
        "plt.title('The proportion of frauds amongst transactions',fontsize = 20)\n",
        "plt.legend()\n",
        "plt.show()"
      ]
    },
    {
      "cell_type": "code",
      "execution_count": 8,
      "metadata": {
        "colab": {
          "base_uri": "https://localhost:8080/",
          "height": 68
        },
        "colab_type": "code",
        "id": "FwR5JXB2aNHi",
        "outputId": "f5555d0a-e2b7-48ea-f9d9-5d8cf34fb69a"
      },
      "outputs": [
        {
          "data": {
            "text/plain": [
              "0    6362604\n",
              "1         16\n",
              "Name: isFlaggedFraud, dtype: int64"
            ]
          },
          "execution_count": 8,
          "metadata": {},
          "output_type": "execute_result"
        }
      ],
      "source": [
        "# frauds that are found/flagged\n",
        "data['isFlaggedFraud'].value_counts()"
      ]
    },
    {
      "cell_type": "code",
      "execution_count": 9,
      "metadata": {
        "colab": {
          "base_uri": "https://localhost:8080/",
          "height": 596
        },
        "colab_type": "code",
        "id": "ONJTZw-zctFB",
        "outputId": "45dd4a7f-44ed-41d1-ce8d-1908e8667320"
      },
      "outputs": [
        {
          "data": {
            "image/png": "[encoded data removed]",
            "text/plain": [
              "<Figure size 1000x1000 with 1 Axes>"
            ]
          },
          "metadata": {},
          "output_type": "display_data"
        }
      ],
      "source": [
        "labels = ['Not a Flagged Fraud', 'Flagged Fraud']\n",
        "colors = ['lightblue', 'black']\n",
        "size = [8213, 16]\n",
        "explode = [0.1, 0.21]\n",
        "\n",
        "plt.rcParams['figure.figsize'] = (10, 10)\n",
        "plt.pie(size, labels = labels, colors = colors, explode = explode, shadow = True)\n",
        "plt.axis('off')\n",
        "plt.title('The share of flagged frauds amongst all frauds',fontsize = 20)\n",
        "plt.legend()\n",
        "plt.show()"
      ]
    },
    {
      "cell_type": "code",
      "execution_count": 10,
      "metadata": {
        "colab": {
          "base_uri": "https://localhost:8080/",
          "height": 119
        },
        "colab_type": "code",
        "id": "b9T9R8Claour",
        "outputId": "be1f549d-7095-498f-c40b-bf17c612df10"
      },
      "outputs": [
        {
          "data": {
            "text/plain": [
              "CASH_OUT    2237500\n",
              "PAYMENT     2151495\n",
              "CASH_IN     1399284\n",
              "TRANSFER     532909\n",
              "DEBIT         41432\n",
              "Name: type, dtype: int64"
            ]
          },
          "execution_count": 10,
          "metadata": {},
          "output_type": "execute_result"
        }
      ],
      "source": [
        "# types of transactions in data set\n",
        "data['type'].value_counts()"
      ]
    },
    {
      "cell_type": "code",
      "execution_count": 11,
      "metadata": {
        "colab": {
          "base_uri": "https://localhost:8080/",
          "height": 596
        },
        "colab_type": "code",
        "id": "u1OHjHgndHod",
        "outputId": "9871959e-b1c9-49df-9abd-2de0d4475232"
      },
      "outputs": [
        {
          "data": {
            "image/png": "[encoded data removed]",
            "text/plain": [
              "<Figure size 1000x1000 with 1 Axes>"
            ]
          },
          "metadata": {},
          "output_type": "display_data"
        }
      ],
      "source": [
        "labels = ['Cash-out', 'Payment', 'Cash-in', 'Transfer', 'Debit']\n",
        "size = [2237500, 2151495, 1399284, 532909, 41432]\n",
        "colors = ['pink', 'lightgreen', 'lightblue', 'orange', 'yellow']\n",
        "explode = [0.1, 0.1, 0.1, 0.1, 0.1]\n",
        "\n",
        "plt.rcParams['figure.figsize'] = (10, 10)\n",
        "plt.pie(size, colors = colors, explode = explode, labels = labels, shadow = True)\n",
        "plt.title('Types of money transactions', fontsize = 20)\n",
        "plt.axis('off')\n",
        "plt.legend()\n",
        "plt.show()"
      ]
    },
    {
      "cell_type": "code",
      "execution_count": 12,
      "metadata": {
        "colab": {
          "base_uri": "https://localhost:8080/",
          "height": 34
        },
        "colab_type": "code",
        "id": "F9SzfpVtblOq",
        "outputId": "dac58ac9-ce25-466b-a1a3-59af9a03f8b7"
      },
      "outputs": [],
      "source": [
        "# checking the different types of steps involved in transactions\n",
        "\n",
        "#x = data['step'].value_counts().nunique()\n",
        "#print(x)"
      ]
    },
    {
      "cell_type": "code",
      "execution_count": 13,
      "metadata": {
        "colab": {
          "base_uri": "https://localhost:8080/",
          "height": 514
        },
        "colab_type": "code",
        "id": "2er8JIaysTho",
        "outputId": "f759a623-3349-4c65-86e4-76afa6f13740"
      },
      "outputs": [
        {
          "data": {
            "image/png": "[encoded data removed]",
            "text/plain": [
              "<Figure size 1400x700 with 1 Axes>"
            ]
          },
          "metadata": {},
          "output_type": "display_data"
        }
      ],
      "source": [
        "# distribution of steps\n",
        "plt.rcParams['figure.figsize'] =(14, 7)\n",
        "\n",
        "from scipy.stats import norm\n",
        "\n",
        "plt.rcParams['figure.figsize'] = (14, 7)\n",
        "\n",
        "# Using displot to create the histogram and fit a normal distribution\n",
        "sns.displot(data['step'], kind=\"hist\", kde=True, aspect=2, height=7, stat=\"density\")\n",
        "plt.title('Distribution Plot for Steps', fontsize=20)\n",
        "plt.xlabel('Step', fontsize=15)\n",
        "plt.show()"
      ]
    },
    {
      "cell_type": "code",
      "execution_count": 14,
      "metadata": {
        "colab": {
          "base_uri": "https://localhost:8080/",
          "height": 507
        },
        "colab_type": "code",
        "id": "rOuIfJ1CuLi-",
        "outputId": "becafc49-752c-4bdc-b43d-b7548fa264cf"
      },
      "outputs": [
        {
          "data": {
            "image/png": "[encoded data removed]",
            "text/plain": [
              "<Figure size 1000x700 with 1 Axes>"
            ]
          },
          "metadata": {},
          "output_type": "display_data"
        }
      ],
      "source": [
        "# 15 most commonnly transferred amounts\n",
        "\n",
        "plt.rcParams['figure.figsize'] = (10, 7)\n",
        "\n",
        "data['amount'].value_counts().head(15).plot.bar()\n",
        "plt.title('15 Most Common Transaction amounts', fontsize = 20)\n",
        "plt.xlabel('Amounts')\n",
        "plt.ylabel('count')\n",
        "plt.show()"
      ]
    },
    {
      "cell_type": "code",
      "execution_count": 15,
      "metadata": {
        "colab": {
          "base_uri": "https://localhost:8080/",
          "height": 501
        },
        "colab_type": "code",
        "id": "MatC3P5PIIfT",
        "outputId": "13a5c11b-9e65-4c25-dd50-cef1f9d18750"
      },
      "outputs": [
        {
          "data": {
            "image/png": "[encoded data removed]",
            "text/plain": [
              "<Figure size 1900x700 with 1 Axes>"
            ]
          },
          "metadata": {},
          "output_type": "display_data"
        }
      ],
      "source": [
        "# 50 least common amounts transferred\n",
        "\n",
        "plt.rcParams['figure.figsize'] = (19, 7)\n",
        "\n",
        "data['amount'].value_counts().tail(50).plot.bar()\n",
        "plt.title('50 Least Common Transaction amounts', fontsize = 20)\n",
        "plt.xlabel('Amounts')\n",
        "plt.ylabel('count')\n",
        "plt.show()"
      ]
    },
    {
      "cell_type": "code",
      "execution_count": 16,
      "metadata": {
        "colab": {
          "base_uri": "https://localhost:8080/",
          "height": 34
        },
        "colab_type": "code",
        "id": "y_IRTieSbRBL",
        "outputId": "77919ac2-9fe5-43e0-d73b-7e8df87cd10c"
      },
      "outputs": [
        {
          "name": "stdout",
          "output_type": "stream",
          "text": [
            "The types of fraudulent transactions are ['TRANSFER', 'CASH_OUT']\n"
          ]
        }
      ],
      "source": [
        "# fraudulent transaction types out of all the transaction modes\n",
        "\n",
        "print('The types of fraudulent transactions are {}'.format(list(data.loc[data.isFraud == 1].type.drop_duplicates().values)) )"
      ]
    },
    {
      "cell_type": "code",
      "execution_count": 17,
      "metadata": {
        "colab": {
          "base_uri": "https://localhost:8080/",
          "height": 51
        },
        "colab_type": "code",
        "id": "aXc-odaRaznS",
        "outputId": "47c4bbf7-f179-439b-f047-d89ce1083187"
      },
      "outputs": [
        {
          "name": "stdout",
          "output_type": "stream",
          "text": [
            "The number of fraudulent TRANSFERs = 4097\n",
            "The number of fraudulent CASH_OUTs = 4116\n"
          ]
        }
      ],
      "source": [
        "# finding fraud transfer and fraud cash outs\n",
        "dfFraudTransfer = data.loc[(data.isFraud == 1) & (data.type == 'TRANSFER')]\n",
        "dfFraudCashout = data.loc[(data.isFraud == 1) & (data.type == 'CASH_OUT')]\n",
        "\n",
        "print ('The number of fraudulent TRANSFERs = {}'.format(len(dfFraudTransfer)))\n",
        "print ('The number of fraudulent CASH_OUTs = {}'.format(len(dfFraudCashout)))"
      ]
    },
    {
      "cell_type": "code",
      "execution_count": 18,
      "metadata": {
        "colab": {
          "base_uri": "https://localhost:8080/",
          "height": 136
        },
        "colab_type": "code",
        "id": "pIgCRMa5cpLo",
        "outputId": "3cd2bb1f-3651-4195-8138-54f601f486b9"
      },
      "outputs": [
        {
          "name": "stdout",
          "output_type": "stream",
          "text": [
            "Transfer Transaction\n",
            "Minimum Transaction : 63.8\n",
            "Maximum Transaction : 10000000.0\n",
            "\n",
            "CASH_OUT Transaction\n",
            "Minimum Transaction : 0.0\n",
            "Maximum Transaction : 10000000.0\n"
          ]
        }
      ],
      "source": [
        "# finding out the minimum and maximum transactions \n",
        "\n",
        "print(\"Transfer Transaction\")\n",
        "print(\"Minimum Transaction :\", data.loc[(data.isFraud == 1) & (data.type == 'TRANSFER')].amount.min())\n",
        "print(\"Maximum Transaction :\", data.loc[(data.isFraud == 1) & (data.type == 'TRANSFER')].amount.max())\n",
        "\n",
        "print(\"\\nCASH_OUT Transaction\")\n",
        "print(\"Minimum Transaction :\", data.loc[(data.isFraud == 1) & (data.type == 'CASH_OUT')].amount.min())\n",
        "print(\"Maximum Transaction :\", data.loc[(data.isFraud == 1) & (data.type == 'CASH_OUT')].amount.max())"
      ]
    },
    {
      "cell_type": "code",
      "execution_count": 19,
      "metadata": {
        "colab": {
          "base_uri": "https://localhost:8080/",
          "height": 34
        },
        "colab_type": "code",
        "id": "sCyHO7HsYd5g",
        "outputId": "56c11dac-ca58-4824-b19f-88589563bad7"
      },
      "outputs": [
        {
          "name": "stdout",
          "output_type": "stream",
          "text": [
            "The Type of Transaction in which IsFlagged is set : ['TRANSFER']\n"
          ]
        }
      ],
      "source": [
        "#finding out the transactions which are flagged to be fraud\n",
        "\n",
        "print(\"The Type of Transaction in which IsFlagged is set :\", data.loc[data.isFlaggedFraud == 1].type.drop_duplicates().values)\n"
      ]
    },
    {
      "cell_type": "code",
      "execution_count": 20,
      "metadata": {
        "colab": {
          "base_uri": "https://localhost:8080/",
          "height": 68
        },
        "colab_type": "code",
        "id": "e4fxRvUNa20S",
        "outputId": "d0c06e76-269d-41a8-dac3-4d22323b4e08"
      },
      "outputs": [
        {
          "name": "stdout",
          "output_type": "stream",
          "text": [
            "The no. of Flagged Fraudulent Transactions : 16\n",
            "Minimum Transaction : 353874.22\n",
            "Maximum Transaction : 10000000.0\n"
          ]
        }
      ],
      "source": [
        "# the number of flagged fraudulent transactions\n",
        "FlaggedFraud = data.loc[(data.isFlaggedFraud == 1) & (data.type == 'TRANSFER')]\n",
        "print(\"The no. of Flagged Fraudulent Transactions :\", len(FlaggedFraud))\n",
        "\n",
        "# printing the minimum and maximum transactions done when FlaggedFraud is set\n",
        "# the transaction mode being transfer\n",
        "print(\"Minimum Transaction :\", data.loc[data.isFlaggedFraud == 1].amount.min())\n",
        "print(\"Maximum Transaction :\", data.loc[data.isFlaggedFraud == 1].amount.max())\n"
      ]
    },
    {
      "cell_type": "code",
      "execution_count": 21,
      "metadata": {
        "colab": {
          "base_uri": "https://localhost:8080/",
          "height": 3267
        },
        "colab_type": "code",
        "id": "QqD5X_vtcJBp",
        "outputId": "45c02e59-2ebd-4f70-e0bb-335f461fd6dd"
      },
      "outputs": [
        {
          "name": "stdout",
          "output_type": "stream",
          "text": [
            "Figuring out the no. of transactions where old balance dest. and new balance dest. are 0 being FlaggedFraud :          step      type      amount     nameOrig  oldbalanceOrg  \\\n",
            "0           1   PAYMENT     9839.64  C1231006815      170136.00   \n",
            "1           1   PAYMENT     1864.28  C1666544295       21249.00   \n",
            "2           1  TRANSFER      181.00  C1305486145         181.00   \n",
            "4           1   PAYMENT    11668.14  C2048537720       41554.00   \n",
            "5           1   PAYMENT     7817.71    C90045638       53860.00   \n",
            "...       ...       ...         ...          ...            ...   \n",
            "6362610   742  TRANSFER    63416.99   C778071008       63416.99   \n",
            "6362612   743  TRANSFER  1258818.82  C1531301470     1258818.82   \n",
            "6362614   743  TRANSFER   339682.13  C2013999242      339682.13   \n",
            "6362616   743  TRANSFER  6311409.28  C1529008245     6311409.28   \n",
            "6362618   743  TRANSFER   850002.52  C1685995037      850002.52   \n",
            "\n",
            "         newbalanceOrig     nameDest  oldbalanceDest  newbalanceDest  isFraud  \\\n",
            "0             160296.36  M1979787155             0.0             0.0        0   \n",
            "1              19384.72  M2044282225             0.0             0.0        0   \n",
            "2                  0.00   C553264065             0.0             0.0        1   \n",
            "4              29885.86  M1230701703             0.0             0.0        0   \n",
            "5              46042.29   M573487274             0.0             0.0        0   \n",
            "...                 ...          ...             ...             ...      ...   \n",
            "6362610            0.00  C1812552860             0.0             0.0        1   \n",
            "6362612            0.00  C1470998563             0.0             0.0        1   \n",
            "6362614            0.00  C1850423904             0.0             0.0        1   \n",
            "6362616            0.00  C1881841831             0.0             0.0        1   \n",
            "6362618            0.00  C2080388513             0.0             0.0        1   \n",
            "\n",
            "         isFlaggedFraud  \n",
            "0                     0  \n",
            "1                     0  \n",
            "2                     0  \n",
            "4                     0  \n",
            "5                     0  \n",
            "...                 ...  \n",
            "6362610               0  \n",
            "6362612               0  \n",
            "6362614               0  \n",
            "6362616               0  \n",
            "6362618               0  \n",
            "\n",
            "[2317266 rows x 11 columns]\n"
          ]
        }
      ],
      "source": [
        "# Finding transactions where old balance dest. and new balance dest. are 0 being FlaggedFraud\n",
        "\n",
        "x = data.loc[(data.isFlaggedFraud == 0) & (data.oldbalanceDest == 0) & (data.newbalanceDest == 0)]\n",
        "print(\"Figuring out the no. of transactions where old balance dest. and new balance dest. are 0 being FlaggedFraud :\", x)"
      ]
    },
    {
      "cell_type": "markdown",
      "metadata": {
        "colab_type": "text",
        "id": "UTIOzYmXOvpA"
      },
      "source": [
        "**Dataset where only Transfer Transactions are mentioned**"
      ]
    },
    {
      "cell_type": "code",
      "execution_count": 22,
      "metadata": {
        "colab": {
          "base_uri": "https://localhost:8080/",
          "height": 359
        },
        "colab_type": "code",
        "id": "eW2pR3M2LMla",
        "outputId": "319228a5-0168-440b-fe25-dc12694b6dfa"
      },
      "outputs": [
        {
          "data": {
            "text/html": [
              "<div>\n",
              "<style scoped>\n",
              "    .dataframe tbody tr th:only-of-type {\n",
              "        vertical-align: middle;\n",
              "    }\n",
              "\n",
              "    .dataframe tbody tr th {\n",
              "        vertical-align: top;\n",
              "    }\n",
              "\n",
              "    .dataframe thead th {\n",
              "        text-align: right;\n",
              "    }\n",
              "</style>\n",
              "<table border=\"1\" class=\"dataframe\">\n",
              "  <thead>\n",
              "    <tr style=\"text-align: right;\">\n",
              "      <th></th>\n",
              "      <th>step</th>\n",
              "      <th>type</th>\n",
              "      <th>amount</th>\n",
              "      <th>nameOrig</th>\n",
              "      <th>oldbalanceOrg</th>\n",
              "      <th>newbalanceOrig</th>\n",
              "      <th>nameDest</th>\n",
              "      <th>oldbalanceDest</th>\n",
              "      <th>newbalanceDest</th>\n",
              "      <th>isFraud</th>\n",
              "      <th>isFlaggedFraud</th>\n",
              "    </tr>\n",
              "  </thead>\n",
              "  <tbody>\n",
              "    <tr>\n",
              "      <th>2</th>\n",
              "      <td>1</td>\n",
              "      <td>TRANSFER</td>\n",
              "      <td>181.00</td>\n",
              "      <td>C1305486145</td>\n",
              "      <td>181.00</td>\n",
              "      <td>0.0</td>\n",
              "      <td>C553264065</td>\n",
              "      <td>0.00</td>\n",
              "      <td>0.00</td>\n",
              "      <td>1</td>\n",
              "      <td>0</td>\n",
              "    </tr>\n",
              "    <tr>\n",
              "      <th>19</th>\n",
              "      <td>1</td>\n",
              "      <td>TRANSFER</td>\n",
              "      <td>215310.30</td>\n",
              "      <td>C1670993182</td>\n",
              "      <td>705.00</td>\n",
              "      <td>0.0</td>\n",
              "      <td>C1100439041</td>\n",
              "      <td>22425.00</td>\n",
              "      <td>0.00</td>\n",
              "      <td>0</td>\n",
              "      <td>0</td>\n",
              "    </tr>\n",
              "    <tr>\n",
              "      <th>24</th>\n",
              "      <td>1</td>\n",
              "      <td>TRANSFER</td>\n",
              "      <td>311685.89</td>\n",
              "      <td>C1984094095</td>\n",
              "      <td>10835.00</td>\n",
              "      <td>0.0</td>\n",
              "      <td>C932583850</td>\n",
              "      <td>6267.00</td>\n",
              "      <td>2719172.89</td>\n",
              "      <td>0</td>\n",
              "      <td>0</td>\n",
              "    </tr>\n",
              "    <tr>\n",
              "      <th>58</th>\n",
              "      <td>1</td>\n",
              "      <td>TRANSFER</td>\n",
              "      <td>62610.80</td>\n",
              "      <td>C1976401987</td>\n",
              "      <td>79114.00</td>\n",
              "      <td>16503.2</td>\n",
              "      <td>C1937962514</td>\n",
              "      <td>517.00</td>\n",
              "      <td>8383.29</td>\n",
              "      <td>0</td>\n",
              "      <td>0</td>\n",
              "    </tr>\n",
              "    <tr>\n",
              "      <th>78</th>\n",
              "      <td>1</td>\n",
              "      <td>TRANSFER</td>\n",
              "      <td>42712.39</td>\n",
              "      <td>C283039401</td>\n",
              "      <td>10363.39</td>\n",
              "      <td>0.0</td>\n",
              "      <td>C1330106945</td>\n",
              "      <td>57901.66</td>\n",
              "      <td>24044.18</td>\n",
              "      <td>0</td>\n",
              "      <td>0</td>\n",
              "    </tr>\n",
              "    <tr>\n",
              "      <th>79</th>\n",
              "      <td>1</td>\n",
              "      <td>TRANSFER</td>\n",
              "      <td>77957.68</td>\n",
              "      <td>C207471778</td>\n",
              "      <td>0.00</td>\n",
              "      <td>0.0</td>\n",
              "      <td>C1761291320</td>\n",
              "      <td>94900.00</td>\n",
              "      <td>22233.65</td>\n",
              "      <td>0</td>\n",
              "      <td>0</td>\n",
              "    </tr>\n",
              "    <tr>\n",
              "      <th>80</th>\n",
              "      <td>1</td>\n",
              "      <td>TRANSFER</td>\n",
              "      <td>17231.46</td>\n",
              "      <td>C1243171897</td>\n",
              "      <td>0.00</td>\n",
              "      <td>0.0</td>\n",
              "      <td>C783286238</td>\n",
              "      <td>24672.00</td>\n",
              "      <td>0.00</td>\n",
              "      <td>0</td>\n",
              "      <td>0</td>\n",
              "    </tr>\n",
              "    <tr>\n",
              "      <th>81</th>\n",
              "      <td>1</td>\n",
              "      <td>TRANSFER</td>\n",
              "      <td>78766.03</td>\n",
              "      <td>C1376151044</td>\n",
              "      <td>0.00</td>\n",
              "      <td>0.0</td>\n",
              "      <td>C1749186397</td>\n",
              "      <td>103772.00</td>\n",
              "      <td>277515.05</td>\n",
              "      <td>0</td>\n",
              "      <td>0</td>\n",
              "    </tr>\n",
              "    <tr>\n",
              "      <th>82</th>\n",
              "      <td>1</td>\n",
              "      <td>TRANSFER</td>\n",
              "      <td>224606.64</td>\n",
              "      <td>C873175411</td>\n",
              "      <td>0.00</td>\n",
              "      <td>0.0</td>\n",
              "      <td>C766572210</td>\n",
              "      <td>354678.92</td>\n",
              "      <td>0.00</td>\n",
              "      <td>0</td>\n",
              "      <td>0</td>\n",
              "    </tr>\n",
              "    <tr>\n",
              "      <th>83</th>\n",
              "      <td>1</td>\n",
              "      <td>TRANSFER</td>\n",
              "      <td>125872.53</td>\n",
              "      <td>C1443967876</td>\n",
              "      <td>0.00</td>\n",
              "      <td>0.0</td>\n",
              "      <td>C392292416</td>\n",
              "      <td>348512.00</td>\n",
              "      <td>3420103.09</td>\n",
              "      <td>0</td>\n",
              "      <td>0</td>\n",
              "    </tr>\n",
              "  </tbody>\n",
              "</table>\n",
              "</div>"
            ],
            "text/plain": [
              "    step      type     amount     nameOrig  oldbalanceOrg  newbalanceOrig  \\\n",
              "2      1  TRANSFER     181.00  C1305486145         181.00             0.0   \n",
              "19     1  TRANSFER  215310.30  C1670993182         705.00             0.0   \n",
              "24     1  TRANSFER  311685.89  C1984094095       10835.00             0.0   \n",
              "58     1  TRANSFER   62610.80  C1976401987       79114.00         16503.2   \n",
              "78     1  TRANSFER   42712.39   C283039401       10363.39             0.0   \n",
              "79     1  TRANSFER   77957.68   C207471778           0.00             0.0   \n",
              "80     1  TRANSFER   17231.46  C1243171897           0.00             0.0   \n",
              "81     1  TRANSFER   78766.03  C1376151044           0.00             0.0   \n",
              "82     1  TRANSFER  224606.64   C873175411           0.00             0.0   \n",
              "83     1  TRANSFER  125872.53  C1443967876           0.00             0.0   \n",
              "\n",
              "       nameDest  oldbalanceDest  newbalanceDest  isFraud  isFlaggedFraud  \n",
              "2    C553264065            0.00            0.00        1               0  \n",
              "19  C1100439041        22425.00            0.00        0               0  \n",
              "24   C932583850         6267.00      2719172.89        0               0  \n",
              "58  C1937962514          517.00         8383.29        0               0  \n",
              "78  C1330106945        57901.66        24044.18        0               0  \n",
              "79  C1761291320        94900.00        22233.65        0               0  \n",
              "80   C783286238        24672.00            0.00        0               0  \n",
              "81  C1749186397       103772.00       277515.05        0               0  \n",
              "82   C766572210       354678.92            0.00        0               0  \n",
              "83   C392292416       348512.00      3420103.09        0               0  "
            ]
          },
          "execution_count": 22,
          "metadata": {},
          "output_type": "execute_result"
        }
      ],
      "source": [
        "# defining a dataset containing only transfer type of transactions\n",
        "\n",
        "dataTransfer = data.loc[data['type'] == 'TRANSFER']\n",
        "\n",
        "dataTransfer = pd.DataFrame(dataTransfer)\n",
        "\n",
        "dataTransfer.head(10)"
      ]
    },
    {
      "cell_type": "markdown",
      "metadata": {
        "colab_type": "text",
        "id": "lID5QBU_OpHh"
      },
      "source": [
        "**Minimum Original old Balance for Flagged Frauds**"
      ]
    },
    {
      "cell_type": "code",
      "execution_count": 23,
      "metadata": {
        "colab": {
          "base_uri": "https://localhost:8080/",
          "height": 359
        },
        "colab_type": "code",
        "id": "OCtZlKY0L1CC",
        "outputId": "48639ffa-b0de-4780-843f-c4b5376a5a2e"
      },
      "outputs": [
        {
          "data": {
            "text/html": [
              "<div>\n",
              "<style scoped>\n",
              "    .dataframe tbody tr th:only-of-type {\n",
              "        vertical-align: middle;\n",
              "    }\n",
              "\n",
              "    .dataframe tbody tr th {\n",
              "        vertical-align: top;\n",
              "    }\n",
              "\n",
              "    .dataframe thead th {\n",
              "        text-align: right;\n",
              "    }\n",
              "</style>\n",
              "<table border=\"1\" class=\"dataframe\">\n",
              "  <thead>\n",
              "    <tr style=\"text-align: right;\">\n",
              "      <th></th>\n",
              "      <th>step</th>\n",
              "      <th>type</th>\n",
              "      <th>amount</th>\n",
              "      <th>nameOrig</th>\n",
              "      <th>oldbalanceOrg</th>\n",
              "      <th>newbalanceOrig</th>\n",
              "      <th>nameDest</th>\n",
              "      <th>oldbalanceDest</th>\n",
              "      <th>newbalanceDest</th>\n",
              "      <th>isFraud</th>\n",
              "      <th>isFlaggedFraud</th>\n",
              "    </tr>\n",
              "  </thead>\n",
              "  <tbody>\n",
              "    <tr>\n",
              "      <th>6205439</th>\n",
              "      <td>586</td>\n",
              "      <td>TRANSFER</td>\n",
              "      <td>353874.22</td>\n",
              "      <td>C1684585475</td>\n",
              "      <td>353874.22</td>\n",
              "      <td>353874.22</td>\n",
              "      <td>C1770418982</td>\n",
              "      <td>0.0</td>\n",
              "      <td>0.0</td>\n",
              "      <td>1</td>\n",
              "      <td>1</td>\n",
              "    </tr>\n",
              "    <tr>\n",
              "      <th>3760288</th>\n",
              "      <td>279</td>\n",
              "      <td>TRANSFER</td>\n",
              "      <td>536624.41</td>\n",
              "      <td>C1035541766</td>\n",
              "      <td>536624.41</td>\n",
              "      <td>536624.41</td>\n",
              "      <td>C1100697970</td>\n",
              "      <td>0.0</td>\n",
              "      <td>0.0</td>\n",
              "      <td>1</td>\n",
              "      <td>1</td>\n",
              "    </tr>\n",
              "    <tr>\n",
              "      <th>3247297</th>\n",
              "      <td>250</td>\n",
              "      <td>TRANSFER</td>\n",
              "      <td>1343002.08</td>\n",
              "      <td>C1100582606</td>\n",
              "      <td>1343002.08</td>\n",
              "      <td>1343002.08</td>\n",
              "      <td>C1147517658</td>\n",
              "      <td>0.0</td>\n",
              "      <td>0.0</td>\n",
              "      <td>1</td>\n",
              "      <td>1</td>\n",
              "    </tr>\n",
              "    <tr>\n",
              "      <th>6266413</th>\n",
              "      <td>617</td>\n",
              "      <td>TRANSFER</td>\n",
              "      <td>2542664.27</td>\n",
              "      <td>C786455622</td>\n",
              "      <td>2542664.27</td>\n",
              "      <td>2542664.27</td>\n",
              "      <td>C661958277</td>\n",
              "      <td>0.0</td>\n",
              "      <td>0.0</td>\n",
              "      <td>1</td>\n",
              "      <td>1</td>\n",
              "    </tr>\n",
              "    <tr>\n",
              "      <th>6351225</th>\n",
              "      <td>702</td>\n",
              "      <td>TRANSFER</td>\n",
              "      <td>3171085.59</td>\n",
              "      <td>C1892216157</td>\n",
              "      <td>3171085.59</td>\n",
              "      <td>3171085.59</td>\n",
              "      <td>C1308068787</td>\n",
              "      <td>0.0</td>\n",
              "      <td>0.0</td>\n",
              "      <td>1</td>\n",
              "      <td>1</td>\n",
              "    </tr>\n",
              "    <tr>\n",
              "      <th>6296014</th>\n",
              "      <td>671</td>\n",
              "      <td>TRANSFER</td>\n",
              "      <td>3441041.46</td>\n",
              "      <td>C917414431</td>\n",
              "      <td>3441041.46</td>\n",
              "      <td>3441041.46</td>\n",
              "      <td>C1082139865</td>\n",
              "      <td>0.0</td>\n",
              "      <td>0.0</td>\n",
              "      <td>1</td>\n",
              "      <td>1</td>\n",
              "    </tr>\n",
              "    <tr>\n",
              "      <th>6168499</th>\n",
              "      <td>554</td>\n",
              "      <td>TRANSFER</td>\n",
              "      <td>3576297.10</td>\n",
              "      <td>C193696150</td>\n",
              "      <td>3576297.10</td>\n",
              "      <td>3576297.10</td>\n",
              "      <td>C484597480</td>\n",
              "      <td>0.0</td>\n",
              "      <td>0.0</td>\n",
              "      <td>1</td>\n",
              "      <td>1</td>\n",
              "    </tr>\n",
              "    <tr>\n",
              "      <th>5563713</th>\n",
              "      <td>387</td>\n",
              "      <td>TRANSFER</td>\n",
              "      <td>4892193.09</td>\n",
              "      <td>C908544136</td>\n",
              "      <td>4892193.09</td>\n",
              "      <td>4892193.09</td>\n",
              "      <td>C891140444</td>\n",
              "      <td>0.0</td>\n",
              "      <td>0.0</td>\n",
              "      <td>1</td>\n",
              "      <td>1</td>\n",
              "    </tr>\n",
              "    <tr>\n",
              "      <th>2736446</th>\n",
              "      <td>212</td>\n",
              "      <td>TRANSFER</td>\n",
              "      <td>4953893.08</td>\n",
              "      <td>C728984460</td>\n",
              "      <td>4953893.08</td>\n",
              "      <td>4953893.08</td>\n",
              "      <td>C639921569</td>\n",
              "      <td>0.0</td>\n",
              "      <td>0.0</td>\n",
              "      <td>1</td>\n",
              "      <td>1</td>\n",
              "    </tr>\n",
              "    <tr>\n",
              "      <th>6362584</th>\n",
              "      <td>741</td>\n",
              "      <td>TRANSFER</td>\n",
              "      <td>5674547.89</td>\n",
              "      <td>C992223106</td>\n",
              "      <td>5674547.89</td>\n",
              "      <td>5674547.89</td>\n",
              "      <td>C1366804249</td>\n",
              "      <td>0.0</td>\n",
              "      <td>0.0</td>\n",
              "      <td>1</td>\n",
              "      <td>1</td>\n",
              "    </tr>\n",
              "  </tbody>\n",
              "</table>\n",
              "</div>"
            ],
            "text/plain": [
              "         step      type      amount     nameOrig  oldbalanceOrg  \\\n",
              "6205439   586  TRANSFER   353874.22  C1684585475      353874.22   \n",
              "3760288   279  TRANSFER   536624.41  C1035541766      536624.41   \n",
              "3247297   250  TRANSFER  1343002.08  C1100582606     1343002.08   \n",
              "6266413   617  TRANSFER  2542664.27   C786455622     2542664.27   \n",
              "6351225   702  TRANSFER  3171085.59  C1892216157     3171085.59   \n",
              "6296014   671  TRANSFER  3441041.46   C917414431     3441041.46   \n",
              "6168499   554  TRANSFER  3576297.10   C193696150     3576297.10   \n",
              "5563713   387  TRANSFER  4892193.09   C908544136     4892193.09   \n",
              "2736446   212  TRANSFER  4953893.08   C728984460     4953893.08   \n",
              "6362584   741  TRANSFER  5674547.89   C992223106     5674547.89   \n",
              "\n",
              "         newbalanceOrig     nameDest  oldbalanceDest  newbalanceDest  isFraud  \\\n",
              "6205439       353874.22  C1770418982             0.0             0.0        1   \n",
              "3760288       536624.41  C1100697970             0.0             0.0        1   \n",
              "3247297      1343002.08  C1147517658             0.0             0.0        1   \n",
              "6266413      2542664.27   C661958277             0.0             0.0        1   \n",
              "6351225      3171085.59  C1308068787             0.0             0.0        1   \n",
              "6296014      3441041.46  C1082139865             0.0             0.0        1   \n",
              "6168499      3576297.10   C484597480             0.0             0.0        1   \n",
              "5563713      4892193.09   C891140444             0.0             0.0        1   \n",
              "2736446      4953893.08   C639921569             0.0             0.0        1   \n",
              "6362584      5674547.89  C1366804249             0.0             0.0        1   \n",
              "\n",
              "         isFlaggedFraud  \n",
              "6205439               1  \n",
              "3760288               1  \n",
              "3247297               1  \n",
              "6266413               1  \n",
              "6351225               1  \n",
              "6296014               1  \n",
              "6168499               1  \n",
              "5563713               1  \n",
              "2736446               1  \n",
              "6362584               1  "
            ]
          },
          "execution_count": 23,
          "metadata": {},
          "output_type": "execute_result"
        }
      ],
      "source": [
        "# frauds having same old and new balance\n",
        "# sorted by old orignal balance to check original old balance for flagged frauds\n",
        "# this table shows flagged frauds with minimum original old balance\n",
        "\n",
        "dataTransfer.loc[(dataTransfer.isFlaggedFraud == 1) & (dataTransfer.oldbalanceOrg == dataTransfer.newbalanceOrig)].sort_values(by = 'oldbalanceOrg').head(10)"
      ]
    },
    {
      "cell_type": "markdown",
      "metadata": {
        "colab_type": "text",
        "id": "BYBXNchQOhyk"
      },
      "source": [
        "**Maximum Original Balance for Flagged Frauds**"
      ]
    },
    {
      "cell_type": "code",
      "execution_count": 24,
      "metadata": {
        "colab": {
          "base_uri": "https://localhost:8080/",
          "height": 359
        },
        "colab_type": "code",
        "id": "Lkk3J9QxOJDY",
        "outputId": "6229c9d1-17b1-4a9b-96ef-a478ea4a76de"
      },
      "outputs": [
        {
          "data": {
            "text/html": [
              "<div>\n",
              "<style scoped>\n",
              "    .dataframe tbody tr th:only-of-type {\n",
              "        vertical-align: middle;\n",
              "    }\n",
              "\n",
              "    .dataframe tbody tr th {\n",
              "        vertical-align: top;\n",
              "    }\n",
              "\n",
              "    .dataframe thead th {\n",
              "        text-align: right;\n",
              "    }\n",
              "</style>\n",
              "<table border=\"1\" class=\"dataframe\">\n",
              "  <thead>\n",
              "    <tr style=\"text-align: right;\">\n",
              "      <th></th>\n",
              "      <th>step</th>\n",
              "      <th>type</th>\n",
              "      <th>amount</th>\n",
              "      <th>nameOrig</th>\n",
              "      <th>oldbalanceOrg</th>\n",
              "      <th>newbalanceOrig</th>\n",
              "      <th>nameDest</th>\n",
              "      <th>oldbalanceDest</th>\n",
              "      <th>newbalanceDest</th>\n",
              "      <th>isFraud</th>\n",
              "      <th>isFlaggedFraud</th>\n",
              "    </tr>\n",
              "  </thead>\n",
              "  <tbody>\n",
              "    <tr>\n",
              "      <th>6168499</th>\n",
              "      <td>554</td>\n",
              "      <td>TRANSFER</td>\n",
              "      <td>3576297.10</td>\n",
              "      <td>C193696150</td>\n",
              "      <td>3576297.10</td>\n",
              "      <td>3576297.10</td>\n",
              "      <td>C484597480</td>\n",
              "      <td>0.0</td>\n",
              "      <td>0.0</td>\n",
              "      <td>1</td>\n",
              "      <td>1</td>\n",
              "    </tr>\n",
              "    <tr>\n",
              "      <th>5563713</th>\n",
              "      <td>387</td>\n",
              "      <td>TRANSFER</td>\n",
              "      <td>4892193.09</td>\n",
              "      <td>C908544136</td>\n",
              "      <td>4892193.09</td>\n",
              "      <td>4892193.09</td>\n",
              "      <td>C891140444</td>\n",
              "      <td>0.0</td>\n",
              "      <td>0.0</td>\n",
              "      <td>1</td>\n",
              "      <td>1</td>\n",
              "    </tr>\n",
              "    <tr>\n",
              "      <th>2736446</th>\n",
              "      <td>212</td>\n",
              "      <td>TRANSFER</td>\n",
              "      <td>4953893.08</td>\n",
              "      <td>C728984460</td>\n",
              "      <td>4953893.08</td>\n",
              "      <td>4953893.08</td>\n",
              "      <td>C639921569</td>\n",
              "      <td>0.0</td>\n",
              "      <td>0.0</td>\n",
              "      <td>1</td>\n",
              "      <td>1</td>\n",
              "    </tr>\n",
              "    <tr>\n",
              "      <th>6362584</th>\n",
              "      <td>741</td>\n",
              "      <td>TRANSFER</td>\n",
              "      <td>5674547.89</td>\n",
              "      <td>C992223106</td>\n",
              "      <td>5674547.89</td>\n",
              "      <td>5674547.89</td>\n",
              "      <td>C1366804249</td>\n",
              "      <td>0.0</td>\n",
              "      <td>0.0</td>\n",
              "      <td>1</td>\n",
              "      <td>1</td>\n",
              "    </tr>\n",
              "    <tr>\n",
              "      <th>6281482</th>\n",
              "      <td>646</td>\n",
              "      <td>TRANSFER</td>\n",
              "      <td>10000000.00</td>\n",
              "      <td>C19004745</td>\n",
              "      <td>10399045.08</td>\n",
              "      <td>10399045.08</td>\n",
              "      <td>C1806199534</td>\n",
              "      <td>0.0</td>\n",
              "      <td>0.0</td>\n",
              "      <td>1</td>\n",
              "      <td>1</td>\n",
              "    </tr>\n",
              "    <tr>\n",
              "      <th>6281484</th>\n",
              "      <td>646</td>\n",
              "      <td>TRANSFER</td>\n",
              "      <td>399045.08</td>\n",
              "      <td>C724693370</td>\n",
              "      <td>10399045.08</td>\n",
              "      <td>10399045.08</td>\n",
              "      <td>C1909486199</td>\n",
              "      <td>0.0</td>\n",
              "      <td>0.0</td>\n",
              "      <td>1</td>\n",
              "      <td>1</td>\n",
              "    </tr>\n",
              "    <tr>\n",
              "      <th>6362460</th>\n",
              "      <td>730</td>\n",
              "      <td>TRANSFER</td>\n",
              "      <td>10000000.00</td>\n",
              "      <td>C2140038573</td>\n",
              "      <td>17316255.05</td>\n",
              "      <td>17316255.05</td>\n",
              "      <td>C1395467927</td>\n",
              "      <td>0.0</td>\n",
              "      <td>0.0</td>\n",
              "      <td>1</td>\n",
              "      <td>1</td>\n",
              "    </tr>\n",
              "    <tr>\n",
              "      <th>6362462</th>\n",
              "      <td>730</td>\n",
              "      <td>TRANSFER</td>\n",
              "      <td>7316255.05</td>\n",
              "      <td>C1869569059</td>\n",
              "      <td>17316255.05</td>\n",
              "      <td>17316255.05</td>\n",
              "      <td>C1861208726</td>\n",
              "      <td>0.0</td>\n",
              "      <td>0.0</td>\n",
              "      <td>1</td>\n",
              "      <td>1</td>\n",
              "    </tr>\n",
              "    <tr>\n",
              "      <th>5996407</th>\n",
              "      <td>425</td>\n",
              "      <td>TRANSFER</td>\n",
              "      <td>10000000.00</td>\n",
              "      <td>C689608084</td>\n",
              "      <td>19585040.37</td>\n",
              "      <td>19585040.37</td>\n",
              "      <td>C1392803603</td>\n",
              "      <td>0.0</td>\n",
              "      <td>0.0</td>\n",
              "      <td>1</td>\n",
              "      <td>1</td>\n",
              "    </tr>\n",
              "    <tr>\n",
              "      <th>5996409</th>\n",
              "      <td>425</td>\n",
              "      <td>TRANSFER</td>\n",
              "      <td>9585040.37</td>\n",
              "      <td>C452586515</td>\n",
              "      <td>19585040.37</td>\n",
              "      <td>19585040.37</td>\n",
              "      <td>C1109166882</td>\n",
              "      <td>0.0</td>\n",
              "      <td>0.0</td>\n",
              "      <td>1</td>\n",
              "      <td>1</td>\n",
              "    </tr>\n",
              "  </tbody>\n",
              "</table>\n",
              "</div>"
            ],
            "text/plain": [
              "         step      type       amount     nameOrig  oldbalanceOrg  \\\n",
              "6168499   554  TRANSFER   3576297.10   C193696150     3576297.10   \n",
              "5563713   387  TRANSFER   4892193.09   C908544136     4892193.09   \n",
              "2736446   212  TRANSFER   4953893.08   C728984460     4953893.08   \n",
              "6362584   741  TRANSFER   5674547.89   C992223106     5674547.89   \n",
              "6281482   646  TRANSFER  10000000.00    C19004745    10399045.08   \n",
              "6281484   646  TRANSFER    399045.08   C724693370    10399045.08   \n",
              "6362460   730  TRANSFER  10000000.00  C2140038573    17316255.05   \n",
              "6362462   730  TRANSFER   7316255.05  C1869569059    17316255.05   \n",
              "5996407   425  TRANSFER  10000000.00   C689608084    19585040.37   \n",
              "5996409   425  TRANSFER   9585040.37   C452586515    19585040.37   \n",
              "\n",
              "         newbalanceOrig     nameDest  oldbalanceDest  newbalanceDest  isFraud  \\\n",
              "6168499      3576297.10   C484597480             0.0             0.0        1   \n",
              "5563713      4892193.09   C891140444             0.0             0.0        1   \n",
              "2736446      4953893.08   C639921569             0.0             0.0        1   \n",
              "6362584      5674547.89  C1366804249             0.0             0.0        1   \n",
              "6281482     10399045.08  C1806199534             0.0             0.0        1   \n",
              "6281484     10399045.08  C1909486199             0.0             0.0        1   \n",
              "6362460     17316255.05  C1395467927             0.0             0.0        1   \n",
              "6362462     17316255.05  C1861208726             0.0             0.0        1   \n",
              "5996407     19585040.37  C1392803603             0.0             0.0        1   \n",
              "5996409     19585040.37  C1109166882             0.0             0.0        1   \n",
              "\n",
              "         isFlaggedFraud  \n",
              "6168499               1  \n",
              "5563713               1  \n",
              "2736446               1  \n",
              "6362584               1  \n",
              "6281482               1  \n",
              "6281484               1  \n",
              "6362460               1  \n",
              "6362462               1  \n",
              "5996407               1  \n",
              "5996409               1  "
            ]
          },
          "execution_count": 24,
          "metadata": {},
          "output_type": "execute_result"
        }
      ],
      "source": [
        "# this table shows flagged frauds with maximum original old balance\n",
        "\n",
        "dataTransfer.loc[(dataTransfer.isFlaggedFraud == 1) & (dataTransfer.oldbalanceOrg == dataTransfer.newbalanceOrig)].sort_values(by = 'oldbalanceOrg').tail(10)"
      ]
    },
    {
      "cell_type": "markdown",
      "metadata": {
        "colab_type": "text",
        "id": "18rSjotPO4Oi"
      },
      "source": [
        "**Minimum Original Old Balace for non-Flagged Frauds**"
      ]
    },
    {
      "cell_type": "code",
      "execution_count": 25,
      "metadata": {
        "colab": {
          "base_uri": "https://localhost:8080/",
          "height": 359
        },
        "colab_type": "code",
        "id": "6NBUwEYTPAdQ",
        "outputId": "6d4cccdc-2fc9-489a-bdc5-d4c54ed5bb59"
      },
      "outputs": [
        {
          "data": {
            "text/html": [
              "<div>\n",
              "<style scoped>\n",
              "    .dataframe tbody tr th:only-of-type {\n",
              "        vertical-align: middle;\n",
              "    }\n",
              "\n",
              "    .dataframe tbody tr th {\n",
              "        vertical-align: top;\n",
              "    }\n",
              "\n",
              "    .dataframe thead th {\n",
              "        text-align: right;\n",
              "    }\n",
              "</style>\n",
              "<table border=\"1\" class=\"dataframe\">\n",
              "  <thead>\n",
              "    <tr style=\"text-align: right;\">\n",
              "      <th></th>\n",
              "      <th>step</th>\n",
              "      <th>type</th>\n",
              "      <th>amount</th>\n",
              "      <th>nameOrig</th>\n",
              "      <th>oldbalanceOrg</th>\n",
              "      <th>newbalanceOrig</th>\n",
              "      <th>nameDest</th>\n",
              "      <th>oldbalanceDest</th>\n",
              "      <th>newbalanceDest</th>\n",
              "      <th>isFraud</th>\n",
              "      <th>isFlaggedFraud</th>\n",
              "    </tr>\n",
              "  </thead>\n",
              "  <tbody>\n",
              "    <tr>\n",
              "      <th>160646</th>\n",
              "      <td>12</td>\n",
              "      <td>TRANSFER</td>\n",
              "      <td>342317.15</td>\n",
              "      <td>C2070529657</td>\n",
              "      <td>0.00</td>\n",
              "      <td>0.0</td>\n",
              "      <td>C621118463</td>\n",
              "      <td>0.0</td>\n",
              "      <td>0.0</td>\n",
              "      <td>0</td>\n",
              "      <td>0</td>\n",
              "    </tr>\n",
              "    <tr>\n",
              "      <th>957368</th>\n",
              "      <td>44</td>\n",
              "      <td>TRANSFER</td>\n",
              "      <td>133711.48</td>\n",
              "      <td>C256147273</td>\n",
              "      <td>0.00</td>\n",
              "      <td>0.0</td>\n",
              "      <td>C1582233295</td>\n",
              "      <td>0.0</td>\n",
              "      <td>0.0</td>\n",
              "      <td>0</td>\n",
              "      <td>0</td>\n",
              "    </tr>\n",
              "    <tr>\n",
              "      <th>1248</th>\n",
              "      <td>1</td>\n",
              "      <td>TRANSFER</td>\n",
              "      <td>271161.74</td>\n",
              "      <td>C1658487789</td>\n",
              "      <td>0.00</td>\n",
              "      <td>0.0</td>\n",
              "      <td>C1219161283</td>\n",
              "      <td>0.0</td>\n",
              "      <td>0.0</td>\n",
              "      <td>0</td>\n",
              "      <td>0</td>\n",
              "    </tr>\n",
              "    <tr>\n",
              "      <th>175828</th>\n",
              "      <td>12</td>\n",
              "      <td>TRANSFER</td>\n",
              "      <td>18931.59</td>\n",
              "      <td>C257351690</td>\n",
              "      <td>0.00</td>\n",
              "      <td>0.0</td>\n",
              "      <td>C1108098323</td>\n",
              "      <td>0.0</td>\n",
              "      <td>0.0</td>\n",
              "      <td>0</td>\n",
              "      <td>0</td>\n",
              "    </tr>\n",
              "    <tr>\n",
              "      <th>282796</th>\n",
              "      <td>15</td>\n",
              "      <td>TRANSFER</td>\n",
              "      <td>421255.41</td>\n",
              "      <td>C1734485985</td>\n",
              "      <td>0.00</td>\n",
              "      <td>0.0</td>\n",
              "      <td>C981307359</td>\n",
              "      <td>0.0</td>\n",
              "      <td>0.0</td>\n",
              "      <td>0</td>\n",
              "      <td>0</td>\n",
              "    </tr>\n",
              "    <tr>\n",
              "      <th>381356</th>\n",
              "      <td>17</td>\n",
              "      <td>TRANSFER</td>\n",
              "      <td>630315.29</td>\n",
              "      <td>C2126290948</td>\n",
              "      <td>22.00</td>\n",
              "      <td>0.0</td>\n",
              "      <td>C1203344902</td>\n",
              "      <td>0.0</td>\n",
              "      <td>0.0</td>\n",
              "      <td>0</td>\n",
              "      <td>0</td>\n",
              "    </tr>\n",
              "    <tr>\n",
              "      <th>4965641</th>\n",
              "      <td>351</td>\n",
              "      <td>TRANSFER</td>\n",
              "      <td>63.80</td>\n",
              "      <td>C1293504491</td>\n",
              "      <td>63.80</td>\n",
              "      <td>0.0</td>\n",
              "      <td>C1368130863</td>\n",
              "      <td>0.0</td>\n",
              "      <td>0.0</td>\n",
              "      <td>1</td>\n",
              "      <td>0</td>\n",
              "    </tr>\n",
              "    <tr>\n",
              "      <th>277265</th>\n",
              "      <td>15</td>\n",
              "      <td>TRANSFER</td>\n",
              "      <td>119.00</td>\n",
              "      <td>C1995557473</td>\n",
              "      <td>119.00</td>\n",
              "      <td>0.0</td>\n",
              "      <td>C1480876722</td>\n",
              "      <td>0.0</td>\n",
              "      <td>0.0</td>\n",
              "      <td>1</td>\n",
              "      <td>0</td>\n",
              "    </tr>\n",
              "    <tr>\n",
              "      <th>6281815</th>\n",
              "      <td>653</td>\n",
              "      <td>TRANSFER</td>\n",
              "      <td>119.65</td>\n",
              "      <td>C1497766467</td>\n",
              "      <td>119.65</td>\n",
              "      <td>0.0</td>\n",
              "      <td>C543477940</td>\n",
              "      <td>0.0</td>\n",
              "      <td>0.0</td>\n",
              "      <td>1</td>\n",
              "      <td>0</td>\n",
              "    </tr>\n",
              "    <tr>\n",
              "      <th>1796322</th>\n",
              "      <td>162</td>\n",
              "      <td>TRANSFER</td>\n",
              "      <td>151.00</td>\n",
              "      <td>C1172437299</td>\n",
              "      <td>151.00</td>\n",
              "      <td>0.0</td>\n",
              "      <td>C315826176</td>\n",
              "      <td>0.0</td>\n",
              "      <td>0.0</td>\n",
              "      <td>1</td>\n",
              "      <td>0</td>\n",
              "    </tr>\n",
              "  </tbody>\n",
              "</table>\n",
              "</div>"
            ],
            "text/plain": [
              "         step      type     amount     nameOrig  oldbalanceOrg  \\\n",
              "160646     12  TRANSFER  342317.15  C2070529657           0.00   \n",
              "957368     44  TRANSFER  133711.48   C256147273           0.00   \n",
              "1248        1  TRANSFER  271161.74  C1658487789           0.00   \n",
              "175828     12  TRANSFER   18931.59   C257351690           0.00   \n",
              "282796     15  TRANSFER  421255.41  C1734485985           0.00   \n",
              "381356     17  TRANSFER  630315.29  C2126290948          22.00   \n",
              "4965641   351  TRANSFER      63.80  C1293504491          63.80   \n",
              "277265     15  TRANSFER     119.00  C1995557473         119.00   \n",
              "6281815   653  TRANSFER     119.65  C1497766467         119.65   \n",
              "1796322   162  TRANSFER     151.00  C1172437299         151.00   \n",
              "\n",
              "         newbalanceOrig     nameDest  oldbalanceDest  newbalanceDest  isFraud  \\\n",
              "160646              0.0   C621118463             0.0             0.0        0   \n",
              "957368              0.0  C1582233295             0.0             0.0        0   \n",
              "1248                0.0  C1219161283             0.0             0.0        0   \n",
              "175828              0.0  C1108098323             0.0             0.0        0   \n",
              "282796              0.0   C981307359             0.0             0.0        0   \n",
              "381356              0.0  C1203344902             0.0             0.0        0   \n",
              "4965641             0.0  C1368130863             0.0             0.0        1   \n",
              "277265              0.0  C1480876722             0.0             0.0        1   \n",
              "6281815             0.0   C543477940             0.0             0.0        1   \n",
              "1796322             0.0   C315826176             0.0             0.0        1   \n",
              "\n",
              "         isFlaggedFraud  \n",
              "160646                0  \n",
              "957368                0  \n",
              "1248                  0  \n",
              "175828                0  \n",
              "282796                0  \n",
              "381356                0  \n",
              "4965641               0  \n",
              "277265                0  \n",
              "6281815               0  \n",
              "1796322               0  "
            ]
          },
          "execution_count": 25,
          "metadata": {},
          "output_type": "execute_result"
        }
      ],
      "source": [
        "dataTransfer.loc[(dataTransfer['isFlaggedFraud'] == 0) & (dataTransfer.oldbalanceDest == dataTransfer.newbalanceDest)].sort_values(by = 'oldbalanceOrg').head(10)"
      ]
    },
    {
      "cell_type": "markdown",
      "metadata": {
        "colab_type": "text",
        "id": "Q2LMnDOGPBUB"
      },
      "source": [
        "**Maximum Original Old Balance for Non-Flagged Frauds**"
      ]
    },
    {
      "cell_type": "code",
      "execution_count": 26,
      "metadata": {
        "colab": {
          "base_uri": "https://localhost:8080/",
          "height": 359
        },
        "colab_type": "code",
        "id": "ASt9TNqMPJ26",
        "outputId": "2e03e38d-2f37-4e05-f19f-21e092374283"
      },
      "outputs": [
        {
          "data": {
            "text/html": [
              "<div>\n",
              "<style scoped>\n",
              "    .dataframe tbody tr th:only-of-type {\n",
              "        vertical-align: middle;\n",
              "    }\n",
              "\n",
              "    .dataframe tbody tr th {\n",
              "        vertical-align: top;\n",
              "    }\n",
              "\n",
              "    .dataframe thead th {\n",
              "        text-align: right;\n",
              "    }\n",
              "</style>\n",
              "<table border=\"1\" class=\"dataframe\">\n",
              "  <thead>\n",
              "    <tr style=\"text-align: right;\">\n",
              "      <th></th>\n",
              "      <th>step</th>\n",
              "      <th>type</th>\n",
              "      <th>amount</th>\n",
              "      <th>nameOrig</th>\n",
              "      <th>oldbalanceOrg</th>\n",
              "      <th>newbalanceOrig</th>\n",
              "      <th>nameDest</th>\n",
              "      <th>oldbalanceDest</th>\n",
              "      <th>newbalanceDest</th>\n",
              "      <th>isFraud</th>\n",
              "      <th>isFlaggedFraud</th>\n",
              "    </tr>\n",
              "  </thead>\n",
              "  <tbody>\n",
              "    <tr>\n",
              "      <th>5996403</th>\n",
              "      <td>425</td>\n",
              "      <td>TRANSFER</td>\n",
              "      <td>10000000.0</td>\n",
              "      <td>C1619838170</td>\n",
              "      <td>39585040.37</td>\n",
              "      <td>29585040.37</td>\n",
              "      <td>C1934167334</td>\n",
              "      <td>0.0</td>\n",
              "      <td>0.0</td>\n",
              "      <td>1</td>\n",
              "      <td>0</td>\n",
              "    </tr>\n",
              "    <tr>\n",
              "      <th>6281476</th>\n",
              "      <td>646</td>\n",
              "      <td>TRANSFER</td>\n",
              "      <td>10000000.0</td>\n",
              "      <td>C130070267</td>\n",
              "      <td>40399045.08</td>\n",
              "      <td>30399045.08</td>\n",
              "      <td>C970791522</td>\n",
              "      <td>0.0</td>\n",
              "      <td>0.0</td>\n",
              "      <td>1</td>\n",
              "      <td>0</td>\n",
              "    </tr>\n",
              "    <tr>\n",
              "      <th>6266405</th>\n",
              "      <td>617</td>\n",
              "      <td>TRANSFER</td>\n",
              "      <td>10000000.0</td>\n",
              "      <td>C794290057</td>\n",
              "      <td>42542664.27</td>\n",
              "      <td>32542664.27</td>\n",
              "      <td>C262998076</td>\n",
              "      <td>0.0</td>\n",
              "      <td>0.0</td>\n",
              "      <td>1</td>\n",
              "      <td>0</td>\n",
              "    </tr>\n",
              "    <tr>\n",
              "      <th>5563705</th>\n",
              "      <td>387</td>\n",
              "      <td>TRANSFER</td>\n",
              "      <td>10000000.0</td>\n",
              "      <td>C576718894</td>\n",
              "      <td>44892193.09</td>\n",
              "      <td>34892193.09</td>\n",
              "      <td>C673002421</td>\n",
              "      <td>0.0</td>\n",
              "      <td>0.0</td>\n",
              "      <td>1</td>\n",
              "      <td>0</td>\n",
              "    </tr>\n",
              "    <tr>\n",
              "      <th>6362576</th>\n",
              "      <td>741</td>\n",
              "      <td>TRANSFER</td>\n",
              "      <td>10000000.0</td>\n",
              "      <td>C780743034</td>\n",
              "      <td>45674547.89</td>\n",
              "      <td>35674547.89</td>\n",
              "      <td>C491519946</td>\n",
              "      <td>0.0</td>\n",
              "      <td>0.0</td>\n",
              "      <td>1</td>\n",
              "      <td>0</td>\n",
              "    </tr>\n",
              "    <tr>\n",
              "      <th>6362454</th>\n",
              "      <td>730</td>\n",
              "      <td>TRANSFER</td>\n",
              "      <td>10000000.0</td>\n",
              "      <td>C507645439</td>\n",
              "      <td>47316255.05</td>\n",
              "      <td>37316255.05</td>\n",
              "      <td>C270374999</td>\n",
              "      <td>0.0</td>\n",
              "      <td>0.0</td>\n",
              "      <td>1</td>\n",
              "      <td>0</td>\n",
              "    </tr>\n",
              "    <tr>\n",
              "      <th>5996401</th>\n",
              "      <td>425</td>\n",
              "      <td>TRANSFER</td>\n",
              "      <td>10000000.0</td>\n",
              "      <td>C1551381510</td>\n",
              "      <td>49585040.37</td>\n",
              "      <td>39585040.37</td>\n",
              "      <td>C1042012237</td>\n",
              "      <td>0.0</td>\n",
              "      <td>0.0</td>\n",
              "      <td>1</td>\n",
              "      <td>0</td>\n",
              "    </tr>\n",
              "    <tr>\n",
              "      <th>6281474</th>\n",
              "      <td>646</td>\n",
              "      <td>TRANSFER</td>\n",
              "      <td>10000000.0</td>\n",
              "      <td>C590657619</td>\n",
              "      <td>50399045.08</td>\n",
              "      <td>40399045.08</td>\n",
              "      <td>C1971187430</td>\n",
              "      <td>0.0</td>\n",
              "      <td>0.0</td>\n",
              "      <td>1</td>\n",
              "      <td>0</td>\n",
              "    </tr>\n",
              "    <tr>\n",
              "      <th>6362452</th>\n",
              "      <td>730</td>\n",
              "      <td>TRANSFER</td>\n",
              "      <td>10000000.0</td>\n",
              "      <td>C726730575</td>\n",
              "      <td>57316255.05</td>\n",
              "      <td>47316255.05</td>\n",
              "      <td>C1364745638</td>\n",
              "      <td>0.0</td>\n",
              "      <td>0.0</td>\n",
              "      <td>1</td>\n",
              "      <td>0</td>\n",
              "    </tr>\n",
              "    <tr>\n",
              "      <th>5996399</th>\n",
              "      <td>425</td>\n",
              "      <td>TRANSFER</td>\n",
              "      <td>10000000.0</td>\n",
              "      <td>C40489106</td>\n",
              "      <td>59585040.37</td>\n",
              "      <td>49585040.37</td>\n",
              "      <td>C650095152</td>\n",
              "      <td>0.0</td>\n",
              "      <td>0.0</td>\n",
              "      <td>1</td>\n",
              "      <td>0</td>\n",
              "    </tr>\n",
              "  </tbody>\n",
              "</table>\n",
              "</div>"
            ],
            "text/plain": [
              "         step      type      amount     nameOrig  oldbalanceOrg  \\\n",
              "5996403   425  TRANSFER  10000000.0  C1619838170    39585040.37   \n",
              "6281476   646  TRANSFER  10000000.0   C130070267    40399045.08   \n",
              "6266405   617  TRANSFER  10000000.0   C794290057    42542664.27   \n",
              "5563705   387  TRANSFER  10000000.0   C576718894    44892193.09   \n",
              "6362576   741  TRANSFER  10000000.0   C780743034    45674547.89   \n",
              "6362454   730  TRANSFER  10000000.0   C507645439    47316255.05   \n",
              "5996401   425  TRANSFER  10000000.0  C1551381510    49585040.37   \n",
              "6281474   646  TRANSFER  10000000.0   C590657619    50399045.08   \n",
              "6362452   730  TRANSFER  10000000.0   C726730575    57316255.05   \n",
              "5996399   425  TRANSFER  10000000.0    C40489106    59585040.37   \n",
              "\n",
              "         newbalanceOrig     nameDest  oldbalanceDest  newbalanceDest  isFraud  \\\n",
              "5996403     29585040.37  C1934167334             0.0             0.0        1   \n",
              "6281476     30399045.08   C970791522             0.0             0.0        1   \n",
              "6266405     32542664.27   C262998076             0.0             0.0        1   \n",
              "5563705     34892193.09   C673002421             0.0             0.0        1   \n",
              "6362576     35674547.89   C491519946             0.0             0.0        1   \n",
              "6362454     37316255.05   C270374999             0.0             0.0        1   \n",
              "5996401     39585040.37  C1042012237             0.0             0.0        1   \n",
              "6281474     40399045.08  C1971187430             0.0             0.0        1   \n",
              "6362452     47316255.05  C1364745638             0.0             0.0        1   \n",
              "5996399     49585040.37   C650095152             0.0             0.0        1   \n",
              "\n",
              "         isFlaggedFraud  \n",
              "5996403               0  \n",
              "6281476               0  \n",
              "6266405               0  \n",
              "5563705               0  \n",
              "6362576               0  \n",
              "6362454               0  \n",
              "5996401               0  \n",
              "6281474               0  \n",
              "6362452               0  \n",
              "5996399               0  "
            ]
          },
          "execution_count": 26,
          "metadata": {},
          "output_type": "execute_result"
        }
      ],
      "source": [
        "dataTransfer.loc[(dataTransfer['isFlaggedFraud'] == 0) & (dataTransfer.oldbalanceDest == dataTransfer.newbalanceDest)].sort_values(by = 'oldbalanceOrg').tail(10)"
      ]
    },
    {
      "cell_type": "code",
      "execution_count": 27,
      "metadata": {
        "colab": {
          "base_uri": "https://localhost:8080/",
          "height": 51
        },
        "colab_type": "code",
        "id": "NtnPQ0OFhakz",
        "outputId": "44bd8ddd-8ae6-4cd5-eb15-f86f6fbad4bf"
      },
      "outputs": [
        {
          "name": "stdout",
          "output_type": "stream",
          "text": [
            "Minimum Balance of oldBalanceOrig for FlaggedFraud and Transfer mode : 353874.22\n",
            "Maximum Balance of oldbalanceOrig for FlaggedFraud and Transfer mode : 19585040.37\n"
          ]
        }
      ],
      "source": [
        "# finding out the minimum and maximum amount for oldbalance original where oldbalance and newbalance for dest is same.\n",
        "\n",
        "dataFlagged = data.loc[data.isFlaggedFraud == 1]\n",
        "\n",
        "print('Minimum Balance of oldBalanceOrig for FlaggedFraud and Transfer mode :', dataFlagged.oldbalanceOrg.min())\n",
        "print('Maximum Balance of oldbalanceOrig for FlaggedFraud and Transfer mode :', dataFlagged.oldbalanceOrg.max())\n"
      ]
    },
    {
      "cell_type": "code",
      "execution_count": 28,
      "metadata": {
        "colab": {
          "base_uri": "https://localhost:8080/",
          "height": 51
        },
        "colab_type": "code",
        "id": "qhaDYqkOLCV6",
        "outputId": "71e0855a-632d-4da7-cb9f-ee43864a3a26"
      },
      "outputs": [
        {
          "name": "stdout",
          "output_type": "stream",
          "text": [
            "Minimum Balance of oldbalanceOrig for non FlaggedFraud and Transfer mode: 0.0\n",
            "Maximum Balance of oldbalanceOrig for non FlaggedFraud and Transfer mode: 575667.54\n"
          ]
        }
      ],
      "source": [
        "# Finding the maximum and minimum balance in original balance when newbalance original and oldbalance original are equal\n",
        "\n",
        "print('Minimum Balance of oldbalanceOrig for non FlaggedFraud and Transfer mode:',\n",
        "      data[(data.type == 'TRANSFER') & (data.isFlaggedFraud == 0) & (data.oldbalanceOrg == data.newbalanceOrig)].oldbalanceOrg.min())\n",
        "print('Maximum Balance of oldbalanceOrig for non FlaggedFraud and Transfer mode:',\n",
        "      data[(data.type == 'TRANSFER') & (data.isFlaggedFraud == 0) & (data.oldbalanceOrg == data.newbalanceOrig)].oldbalanceOrg.max())\n",
        "\n",
        "# Can isFlaggedFraud be set based on seeing a customer transacting more than once? Note that duplicate customer names don't exist within \n",
        "# transactions where isFlaggedFraud is set, but duplicate customer names exist within transactions where isFlaggedFraud is not set. It turns \n",
        "# out that originators of transactions that have isFlaggedFraud set have transacted only once. Very few destination accounts of transactions \n",
        "# that have isFlaggedFraud set have transacted more than once."
      ]
    },
    {
      "cell_type": "code",
      "execution_count": 29,
      "metadata": {
        "colab": {
          "base_uri": "https://localhost:8080/",
          "height": 51
        },
        "colab_type": "code",
        "id": "9vxmr19ZUMp3",
        "outputId": "67e9c525-96f2-4bd1-e7fb-140edd9979d4"
      },
      "outputs": [
        {
          "name": "stdout",
          "output_type": "stream",
          "text": [
            "Minimum Balance of oldbalanceOrig for  FlaggedFraud and Transfer mode: 353874.22\n",
            "Maximum Balance of oldbalanceOrig for non FlaggedFraud and Transfer mode: 19585040.37\n"
          ]
        }
      ],
      "source": [
        "print('Minimum Balance of oldbalanceOrig for  FlaggedFraud and Transfer mode:',\n",
        "      data[(data.type == 'TRANSFER') & (data.isFlaggedFraud == 1) & (data.oldbalanceOrg == data.newbalanceOrig)].oldbalanceOrg.min())\n",
        "print('Maximum Balance of oldbalanceOrig for non FlaggedFraud and Transfer mode:',\n",
        "      data[(data.type == 'TRANSFER') & (data.isFlaggedFraud == 1) & (data.oldbalanceOrg == data.newbalanceOrig)].oldbalanceOrg.max())"
      ]
    },
    {
      "cell_type": "code",
      "execution_count": 30,
      "metadata": {
        "colab": {
          "base_uri": "https://localhost:8080/",
          "height": 374
        },
        "colab_type": "code",
        "id": "2b0CljHsVFJC",
        "outputId": "a8cb71eb-b622-42b4-8ef1-18300920e79c"
      },
      "outputs": [
        {
          "data": {
            "text/plain": [
              "C1286084959    113\n",
              "C985934102     109\n",
              "C665576141     105\n",
              "C2083562754    102\n",
              "C248609774     101\n",
              "C1590550415    101\n",
              "C451111351      99\n",
              "C1789550256     99\n",
              "C1360767589     98\n",
              "C1023714065     97\n",
              "C977993101      96\n",
              "C97730845       96\n",
              "C392292416      95\n",
              "C1899073220     92\n",
              "C306206744      91\n",
              "C1234776885     90\n",
              "C1782113663     90\n",
              "C998351292      89\n",
              "C716083600      89\n",
              "C909295153      88\n",
              "Name: nameDest, dtype: int64"
            ]
          },
          "execution_count": 30,
          "metadata": {},
          "output_type": "execute_result"
        }
      ],
      "source": [
        "data['nameDest'].value_counts().head(20)"
      ]
    },
    {
      "cell_type": "code",
      "execution_count": 31,
      "metadata": {
        "colab": {
          "base_uri": "https://localhost:8080/",
          "height": 34
        },
        "colab_type": "code",
        "id": "Swyn0RcoYb0P",
        "outputId": "b59b1fa0-e566-494e-a603-360d3cafaa3b"
      },
      "outputs": [
        {
          "data": {
            "text/plain": [
              "(2770409, 11)"
            ]
          },
          "execution_count": 31,
          "metadata": {},
          "output_type": "execute_result"
        }
      ],
      "source": [
        "# making dependent and independent sets\n",
        "\n",
        "X = data.loc[(data.type == 'TRANSFER') | (data.type == 'CASH_OUT')]\n",
        "\n",
        "\n",
        "# shape of x\n",
        "X.shape\n"
      ]
    },
    {
      "cell_type": "code",
      "execution_count": 32,
      "metadata": {
        "colab": {
          "base_uri": "https://localhost:8080/",
          "height": 204
        },
        "colab_type": "code",
        "id": "1KB6Ul7JfzO6",
        "outputId": "d92ddb43-9472-46fe-f01a-230cda12069c"
      },
      "outputs": [
        {
          "data": {
            "text/html": [
              "<div>\n",
              "<style scoped>\n",
              "    .dataframe tbody tr th:only-of-type {\n",
              "        vertical-align: middle;\n",
              "    }\n",
              "\n",
              "    .dataframe tbody tr th {\n",
              "        vertical-align: top;\n",
              "    }\n",
              "\n",
              "    .dataframe thead th {\n",
              "        text-align: right;\n",
              "    }\n",
              "</style>\n",
              "<table border=\"1\" class=\"dataframe\">\n",
              "  <thead>\n",
              "    <tr style=\"text-align: right;\">\n",
              "      <th></th>\n",
              "      <th>step</th>\n",
              "      <th>type</th>\n",
              "      <th>amount</th>\n",
              "      <th>nameOrig</th>\n",
              "      <th>oldbalanceOrg</th>\n",
              "      <th>newbalanceOrig</th>\n",
              "      <th>nameDest</th>\n",
              "      <th>oldbalanceDest</th>\n",
              "      <th>newbalanceDest</th>\n",
              "      <th>isFraud</th>\n",
              "      <th>isFlaggedFraud</th>\n",
              "    </tr>\n",
              "  </thead>\n",
              "  <tbody>\n",
              "    <tr>\n",
              "      <th>2</th>\n",
              "      <td>1</td>\n",
              "      <td>TRANSFER</td>\n",
              "      <td>181.00</td>\n",
              "      <td>C1305486145</td>\n",
              "      <td>181.0</td>\n",
              "      <td>0.0</td>\n",
              "      <td>C553264065</td>\n",
              "      <td>0.0</td>\n",
              "      <td>0.00</td>\n",
              "      <td>1</td>\n",
              "      <td>0</td>\n",
              "    </tr>\n",
              "    <tr>\n",
              "      <th>3</th>\n",
              "      <td>1</td>\n",
              "      <td>CASH_OUT</td>\n",
              "      <td>181.00</td>\n",
              "      <td>C840083671</td>\n",
              "      <td>181.0</td>\n",
              "      <td>0.0</td>\n",
              "      <td>C38997010</td>\n",
              "      <td>21182.0</td>\n",
              "      <td>0.00</td>\n",
              "      <td>1</td>\n",
              "      <td>0</td>\n",
              "    </tr>\n",
              "    <tr>\n",
              "      <th>15</th>\n",
              "      <td>1</td>\n",
              "      <td>CASH_OUT</td>\n",
              "      <td>229133.94</td>\n",
              "      <td>C905080434</td>\n",
              "      <td>15325.0</td>\n",
              "      <td>0.0</td>\n",
              "      <td>C476402209</td>\n",
              "      <td>5083.0</td>\n",
              "      <td>51513.44</td>\n",
              "      <td>0</td>\n",
              "      <td>0</td>\n",
              "    </tr>\n",
              "    <tr>\n",
              "      <th>19</th>\n",
              "      <td>1</td>\n",
              "      <td>TRANSFER</td>\n",
              "      <td>215310.30</td>\n",
              "      <td>C1670993182</td>\n",
              "      <td>705.0</td>\n",
              "      <td>0.0</td>\n",
              "      <td>C1100439041</td>\n",
              "      <td>22425.0</td>\n",
              "      <td>0.00</td>\n",
              "      <td>0</td>\n",
              "      <td>0</td>\n",
              "    </tr>\n",
              "    <tr>\n",
              "      <th>24</th>\n",
              "      <td>1</td>\n",
              "      <td>TRANSFER</td>\n",
              "      <td>311685.89</td>\n",
              "      <td>C1984094095</td>\n",
              "      <td>10835.0</td>\n",
              "      <td>0.0</td>\n",
              "      <td>C932583850</td>\n",
              "      <td>6267.0</td>\n",
              "      <td>2719172.89</td>\n",
              "      <td>0</td>\n",
              "      <td>0</td>\n",
              "    </tr>\n",
              "  </tbody>\n",
              "</table>\n",
              "</div>"
            ],
            "text/plain": [
              "    step      type     amount     nameOrig  oldbalanceOrg  newbalanceOrig  \\\n",
              "2      1  TRANSFER     181.00  C1305486145          181.0             0.0   \n",
              "3      1  CASH_OUT     181.00   C840083671          181.0             0.0   \n",
              "15     1  CASH_OUT  229133.94   C905080434        15325.0             0.0   \n",
              "19     1  TRANSFER  215310.30  C1670993182          705.0             0.0   \n",
              "24     1  TRANSFER  311685.89  C1984094095        10835.0             0.0   \n",
              "\n",
              "       nameDest  oldbalanceDest  newbalanceDest  isFraud  isFlaggedFraud  \n",
              "2    C553264065             0.0            0.00        1               0  \n",
              "3     C38997010         21182.0            0.00        1               0  \n",
              "15   C476402209          5083.0        51513.44        0               0  \n",
              "19  C1100439041         22425.0            0.00        0               0  \n",
              "24   C932583850          6267.0      2719172.89        0               0  "
            ]
          },
          "execution_count": 32,
          "metadata": {},
          "output_type": "execute_result"
        }
      ],
      "source": [
        "X.head()"
      ]
    },
    {
      "cell_type": "code",
      "execution_count": 33,
      "metadata": {
        "colab": {
          "base_uri": "https://localhost:8080/",
          "height": 221
        },
        "colab_type": "code",
        "id": "sRTYxQjokzwV",
        "outputId": "db27b405-3377-436e-a334-59584872cf71"
      },
      "outputs": [
        {
          "name": "stderr",
          "output_type": "stream",
          "text": [
            "/var/folders/jv/kyfzy8yx1jj8gfcb8sytyjv00000gn/T/ipykernel_26463/2832837162.py:3: SettingWithCopyWarning: \n",
            "A value is trying to be set on a copy of a slice from a DataFrame.\n",
            "Try using .loc[row_indexer,col_indexer] = value instead\n",
            "\n",
            "See the caveats in the documentation: https://pandas.pydata.org/pandas-docs/stable/user_guide/indexing.html#returning-a-view-versus-a-copy\n",
            "  X.loc[:, 'errorBalanceOrig'] = X['newbalanceOrig'] + X['amount'] - X['oldbalanceOrg']\n",
            "/var/folders/jv/kyfzy8yx1jj8gfcb8sytyjv00000gn/T/ipykernel_26463/2832837162.py:4: SettingWithCopyWarning: \n",
            "A value is trying to be set on a copy of a slice from a DataFrame.\n",
            "Try using .loc[row_indexer,col_indexer] = value instead\n",
            "\n",
            "See the caveats in the documentation: https://pandas.pydata.org/pandas-docs/stable/user_guide/indexing.html#returning-a-view-versus-a-copy\n",
            "  X.loc[:, 'errorBalanceDest'] = X['oldbalanceDest'] + X['amount'] - X['newbalanceDest']\n"
          ]
        }
      ],
      "source": [
        "# feature engg.\n",
        "\n",
        "X.loc[:, 'errorBalanceOrig'] = X['newbalanceOrig'] + X['amount'] - X['oldbalanceOrg']\n",
        "X.loc[:, 'errorBalanceDest'] = X['oldbalanceDest'] + X['amount'] - X['newbalanceDest']\n"
      ]
    },
    {
      "cell_type": "code",
      "execution_count": 34,
      "metadata": {
        "colab": {
          "base_uri": "https://localhost:8080/",
          "height": 34
        },
        "colab_type": "code",
        "id": "34OwpsU-bd7g",
        "outputId": "5c29e18b-203a-4dd3-bae7-8b2831103436"
      },
      "outputs": [
        {
          "data": {
            "text/plain": [
              "(2770409, 11)"
            ]
          },
          "execution_count": 34,
          "metadata": {},
          "output_type": "execute_result"
        }
      ],
      "source": [
        "# removing unwanted columns\n",
        "\n",
        "X = X.drop(['nameDest','nameOrig'], axis = 1)\n",
        "\n",
        "# checking the new shape of data\n",
        "X.shape"
      ]
    },
    {
      "cell_type": "code",
      "execution_count": 35,
      "metadata": {
        "colab": {},
        "colab_type": "code",
        "id": "DytlE02Ranrg"
      },
      "outputs": [],
      "source": [
        "# label encoding for the transaction type\n",
        "\n",
        "X['type'].replace('TRANSFER', 0, inplace = True)\n",
        "X['type'].replace('CASH_OUT', 1, inplace = True)"
      ]
    },
    {
      "cell_type": "code",
      "execution_count": 36,
      "metadata": {
        "colab": {
          "base_uri": "https://localhost:8080/",
          "height": 359
        },
        "colab_type": "code",
        "id": "ULp8vvi0akTE",
        "outputId": "09389b29-e297-47ac-bb00-bf461211dcef"
      },
      "outputs": [
        {
          "data": {
            "text/html": [
              "<div>\n",
              "<style scoped>\n",
              "    .dataframe tbody tr th:only-of-type {\n",
              "        vertical-align: middle;\n",
              "    }\n",
              "\n",
              "    .dataframe tbody tr th {\n",
              "        vertical-align: top;\n",
              "    }\n",
              "\n",
              "    .dataframe thead th {\n",
              "        text-align: right;\n",
              "    }\n",
              "</style>\n",
              "<table border=\"1\" class=\"dataframe\">\n",
              "  <thead>\n",
              "    <tr style=\"text-align: right;\">\n",
              "      <th></th>\n",
              "      <th>step</th>\n",
              "      <th>type</th>\n",
              "      <th>amount</th>\n",
              "      <th>oldbalanceOrg</th>\n",
              "      <th>newbalanceOrig</th>\n",
              "      <th>oldbalanceDest</th>\n",
              "      <th>newbalanceDest</th>\n",
              "      <th>isFraud</th>\n",
              "      <th>isFlaggedFraud</th>\n",
              "      <th>errorBalanceOrig</th>\n",
              "      <th>errorBalanceDest</th>\n",
              "    </tr>\n",
              "  </thead>\n",
              "  <tbody>\n",
              "    <tr>\n",
              "      <th>2</th>\n",
              "      <td>1</td>\n",
              "      <td>0</td>\n",
              "      <td>181.00</td>\n",
              "      <td>181.00</td>\n",
              "      <td>0.0</td>\n",
              "      <td>0.0</td>\n",
              "      <td>0.00</td>\n",
              "      <td>1</td>\n",
              "      <td>0</td>\n",
              "      <td>0.00</td>\n",
              "      <td>181.00</td>\n",
              "    </tr>\n",
              "    <tr>\n",
              "      <th>3</th>\n",
              "      <td>1</td>\n",
              "      <td>1</td>\n",
              "      <td>181.00</td>\n",
              "      <td>181.00</td>\n",
              "      <td>0.0</td>\n",
              "      <td>21182.0</td>\n",
              "      <td>0.00</td>\n",
              "      <td>1</td>\n",
              "      <td>0</td>\n",
              "      <td>0.00</td>\n",
              "      <td>21363.00</td>\n",
              "    </tr>\n",
              "    <tr>\n",
              "      <th>15</th>\n",
              "      <td>1</td>\n",
              "      <td>1</td>\n",
              "      <td>229133.94</td>\n",
              "      <td>15325.00</td>\n",
              "      <td>0.0</td>\n",
              "      <td>5083.0</td>\n",
              "      <td>51513.44</td>\n",
              "      <td>0</td>\n",
              "      <td>0</td>\n",
              "      <td>213808.94</td>\n",
              "      <td>182703.50</td>\n",
              "    </tr>\n",
              "    <tr>\n",
              "      <th>19</th>\n",
              "      <td>1</td>\n",
              "      <td>0</td>\n",
              "      <td>215310.30</td>\n",
              "      <td>705.00</td>\n",
              "      <td>0.0</td>\n",
              "      <td>22425.0</td>\n",
              "      <td>0.00</td>\n",
              "      <td>0</td>\n",
              "      <td>0</td>\n",
              "      <td>214605.30</td>\n",
              "      <td>237735.30</td>\n",
              "    </tr>\n",
              "    <tr>\n",
              "      <th>24</th>\n",
              "      <td>1</td>\n",
              "      <td>0</td>\n",
              "      <td>311685.89</td>\n",
              "      <td>10835.00</td>\n",
              "      <td>0.0</td>\n",
              "      <td>6267.0</td>\n",
              "      <td>2719172.89</td>\n",
              "      <td>0</td>\n",
              "      <td>0</td>\n",
              "      <td>300850.89</td>\n",
              "      <td>-2401220.00</td>\n",
              "    </tr>\n",
              "    <tr>\n",
              "      <th>42</th>\n",
              "      <td>1</td>\n",
              "      <td>1</td>\n",
              "      <td>110414.71</td>\n",
              "      <td>26845.41</td>\n",
              "      <td>0.0</td>\n",
              "      <td>288800.0</td>\n",
              "      <td>2415.16</td>\n",
              "      <td>0</td>\n",
              "      <td>0</td>\n",
              "      <td>83569.30</td>\n",
              "      <td>396799.55</td>\n",
              "    </tr>\n",
              "    <tr>\n",
              "      <th>47</th>\n",
              "      <td>1</td>\n",
              "      <td>1</td>\n",
              "      <td>56953.90</td>\n",
              "      <td>1942.02</td>\n",
              "      <td>0.0</td>\n",
              "      <td>70253.0</td>\n",
              "      <td>64106.18</td>\n",
              "      <td>0</td>\n",
              "      <td>0</td>\n",
              "      <td>55011.88</td>\n",
              "      <td>63100.72</td>\n",
              "    </tr>\n",
              "    <tr>\n",
              "      <th>48</th>\n",
              "      <td>1</td>\n",
              "      <td>1</td>\n",
              "      <td>5346.89</td>\n",
              "      <td>0.00</td>\n",
              "      <td>0.0</td>\n",
              "      <td>652637.0</td>\n",
              "      <td>6453430.91</td>\n",
              "      <td>0</td>\n",
              "      <td>0</td>\n",
              "      <td>5346.89</td>\n",
              "      <td>-5795447.02</td>\n",
              "    </tr>\n",
              "    <tr>\n",
              "      <th>51</th>\n",
              "      <td>1</td>\n",
              "      <td>1</td>\n",
              "      <td>23261.30</td>\n",
              "      <td>20411.53</td>\n",
              "      <td>0.0</td>\n",
              "      <td>25742.0</td>\n",
              "      <td>0.00</td>\n",
              "      <td>0</td>\n",
              "      <td>0</td>\n",
              "      <td>2849.77</td>\n",
              "      <td>49003.30</td>\n",
              "    </tr>\n",
              "    <tr>\n",
              "      <th>58</th>\n",
              "      <td>1</td>\n",
              "      <td>0</td>\n",
              "      <td>62610.80</td>\n",
              "      <td>79114.00</td>\n",
              "      <td>16503.2</td>\n",
              "      <td>517.0</td>\n",
              "      <td>8383.29</td>\n",
              "      <td>0</td>\n",
              "      <td>0</td>\n",
              "      <td>0.00</td>\n",
              "      <td>54744.51</td>\n",
              "    </tr>\n",
              "  </tbody>\n",
              "</table>\n",
              "</div>"
            ],
            "text/plain": [
              "    step  type     amount  oldbalanceOrg  newbalanceOrig  oldbalanceDest  \\\n",
              "2      1     0     181.00         181.00             0.0             0.0   \n",
              "3      1     1     181.00         181.00             0.0         21182.0   \n",
              "15     1     1  229133.94       15325.00             0.0          5083.0   \n",
              "19     1     0  215310.30         705.00             0.0         22425.0   \n",
              "24     1     0  311685.89       10835.00             0.0          6267.0   \n",
              "42     1     1  110414.71       26845.41             0.0        288800.0   \n",
              "47     1     1   56953.90        1942.02             0.0         70253.0   \n",
              "48     1     1    5346.89           0.00             0.0        652637.0   \n",
              "51     1     1   23261.30       20411.53             0.0         25742.0   \n",
              "58     1     0   62610.80       79114.00         16503.2           517.0   \n",
              "\n",
              "    newbalanceDest  isFraud  isFlaggedFraud  errorBalanceOrig  \\\n",
              "2             0.00        1               0              0.00   \n",
              "3             0.00        1               0              0.00   \n",
              "15        51513.44        0               0         213808.94   \n",
              "19            0.00        0               0         214605.30   \n",
              "24      2719172.89        0               0         300850.89   \n",
              "42         2415.16        0               0          83569.30   \n",
              "47        64106.18        0               0          55011.88   \n",
              "48      6453430.91        0               0           5346.89   \n",
              "51            0.00        0               0           2849.77   \n",
              "58         8383.29        0               0              0.00   \n",
              "\n",
              "    errorBalanceDest  \n",
              "2             181.00  \n",
              "3           21363.00  \n",
              "15         182703.50  \n",
              "19         237735.30  \n",
              "24       -2401220.00  \n",
              "42         396799.55  \n",
              "47          63100.72  \n",
              "48       -5795447.02  \n",
              "51          49003.30  \n",
              "58          54744.51  "
            ]
          },
          "execution_count": 36,
          "metadata": {},
          "output_type": "execute_result"
        }
      ],
      "source": [
        "# looking at the head of the data\n",
        "\n",
        "X.head(10)"
      ]
    },
    {
      "cell_type": "code",
      "execution_count": 37,
      "metadata": {
        "colab": {
          "base_uri": "https://localhost:8080/",
          "height": 34
        },
        "colab_type": "code",
        "id": "blsBnEPIbnno",
        "outputId": "73f83b39-6916-4348-81eb-fc0741219788"
      },
      "outputs": [
        {
          "data": {
            "text/plain": [
              "False"
            ]
          },
          "execution_count": 37,
          "metadata": {},
          "output_type": "execute_result"
        }
      ],
      "source": [
        "# checking if the dataset contains any NULL values\n",
        "\n",
        "X.isnull().any().any()"
      ]
    },
    {
      "cell_type": "code",
      "execution_count": 38,
      "metadata": {
        "colab": {
          "base_uri": "https://localhost:8080/",
          "height": 514
        },
        "colab_type": "code",
        "id": "UStokQz1mDrQ",
        "outputId": "bca5d819-68a7-46f9-df16-ec673758f386"
      },
      "outputs": [
        {
          "data": {
            "image/png": "[encoded data removed]",
            "text/plain": [
              "<Figure size 2100x700 with 2 Axes>"
            ]
          },
          "metadata": {},
          "output_type": "display_data"
        }
      ],
      "source": [
        "# visualizing the distribution of errorbalance\n",
        "\n",
        "plt.rcParams['figure.figsize'] = (21, 7)\n",
        "\n",
        "# Plotting the error balance of origin\n",
        "plt.subplot(121)  # This sets up the first subplot in a 1x2 grid\n",
        "sns.histplot(X['errorBalanceOrig'], color='red', kde=True)  # Adding a KDE curve\n",
        "plt.title('Error Balance of Origin', fontsize=20)\n",
        "\n",
        "# Plotting the error balance of destination\n",
        "plt.subplot(122)  # This sets up the second subplot in the same grid\n",
        "sns.histplot(X['errorBalanceDest'], color='red', kde=True)  # Adding a KDE curve\n",
        "plt.title('Error Balance of Destination', fontsize=20)\n",
        "\n",
        "# Display the plots\n",
        "plt.show()\n",
        "\n"
      ]
    },
    {
      "cell_type": "code",
      "execution_count": 39,
      "metadata": {
        "colab": {
          "base_uri": "https://localhost:8080/",
          "height": 68
        },
        "colab_type": "code",
        "id": "2QI2zZm-fpTI",
        "outputId": "63fb2f7f-d809-4cbd-ff05-fccb9eddbb9d"
      },
      "outputs": [
        {
          "data": {
            "text/plain": [
              "0    2762196\n",
              "1       8213\n",
              "Name: isFraud, dtype: int64"
            ]
          },
          "execution_count": 39,
          "metadata": {},
          "output_type": "execute_result"
        }
      ],
      "source": [
        "X['isFraud'].value_counts()"
      ]
    },
    {
      "cell_type": "code",
      "execution_count": 40,
      "metadata": {
        "colab": {
          "base_uri": "https://localhost:8080/",
          "height": 51
        },
        "colab_type": "code",
        "id": "6Vpus-psqJ6o",
        "outputId": "544f4c00-2422-4c89-d3fe-344c103c4fb8"
      },
      "outputs": [
        {
          "name": "stdout",
          "output_type": "stream",
          "text": [
            "Shape of x:  (2770409, 10)\n",
            "Shape of y:  (2770409,)\n"
          ]
        }
      ],
      "source": [
        "# making our independent set\n",
        "\n",
        "Y = X['isFraud']\n",
        "\n",
        "# removing the dependent set\n",
        "X = X.drop(['isFraud'], axis = 1)\n",
        "\n",
        "# getting the shapes of x and y\n",
        "print(\"Shape of x: \", X.shape)\n",
        "print(\"Shape of y: \", Y.shape)\n"
      ]
    },
    {
      "cell_type": "code",
      "execution_count": 41,
      "metadata": {
        "colab": {
          "base_uri": "https://localhost:8080/",
          "height": 204
        },
        "colab_type": "code",
        "id": "g_Cy6QDirCNl",
        "outputId": "46c92ba0-9868-41d3-c14c-2764b596d59d"
      },
      "outputs": [
        {
          "data": {
            "text/html": [
              "<div>\n",
              "<style scoped>\n",
              "    .dataframe tbody tr th:only-of-type {\n",
              "        vertical-align: middle;\n",
              "    }\n",
              "\n",
              "    .dataframe tbody tr th {\n",
              "        vertical-align: top;\n",
              "    }\n",
              "\n",
              "    .dataframe thead th {\n",
              "        text-align: right;\n",
              "    }\n",
              "</style>\n",
              "<table border=\"1\" class=\"dataframe\">\n",
              "  <thead>\n",
              "    <tr style=\"text-align: right;\">\n",
              "      <th></th>\n",
              "      <th>step</th>\n",
              "      <th>type</th>\n",
              "      <th>amount</th>\n",
              "      <th>oldbalanceOrg</th>\n",
              "      <th>newbalanceOrig</th>\n",
              "      <th>oldbalanceDest</th>\n",
              "      <th>newbalanceDest</th>\n",
              "      <th>isFlaggedFraud</th>\n",
              "      <th>errorBalanceOrig</th>\n",
              "      <th>errorBalanceDest</th>\n",
              "    </tr>\n",
              "  </thead>\n",
              "  <tbody>\n",
              "    <tr>\n",
              "      <th>2</th>\n",
              "      <td>1</td>\n",
              "      <td>0</td>\n",
              "      <td>181.00</td>\n",
              "      <td>181.0</td>\n",
              "      <td>0.0</td>\n",
              "      <td>0.0</td>\n",
              "      <td>0.00</td>\n",
              "      <td>0</td>\n",
              "      <td>0.00</td>\n",
              "      <td>181.0</td>\n",
              "    </tr>\n",
              "    <tr>\n",
              "      <th>3</th>\n",
              "      <td>1</td>\n",
              "      <td>1</td>\n",
              "      <td>181.00</td>\n",
              "      <td>181.0</td>\n",
              "      <td>0.0</td>\n",
              "      <td>21182.0</td>\n",
              "      <td>0.00</td>\n",
              "      <td>0</td>\n",
              "      <td>0.00</td>\n",
              "      <td>21363.0</td>\n",
              "    </tr>\n",
              "    <tr>\n",
              "      <th>15</th>\n",
              "      <td>1</td>\n",
              "      <td>1</td>\n",
              "      <td>229133.94</td>\n",
              "      <td>15325.0</td>\n",
              "      <td>0.0</td>\n",
              "      <td>5083.0</td>\n",
              "      <td>51513.44</td>\n",
              "      <td>0</td>\n",
              "      <td>213808.94</td>\n",
              "      <td>182703.5</td>\n",
              "    </tr>\n",
              "    <tr>\n",
              "      <th>19</th>\n",
              "      <td>1</td>\n",
              "      <td>0</td>\n",
              "      <td>215310.30</td>\n",
              "      <td>705.0</td>\n",
              "      <td>0.0</td>\n",
              "      <td>22425.0</td>\n",
              "      <td>0.00</td>\n",
              "      <td>0</td>\n",
              "      <td>214605.30</td>\n",
              "      <td>237735.3</td>\n",
              "    </tr>\n",
              "    <tr>\n",
              "      <th>24</th>\n",
              "      <td>1</td>\n",
              "      <td>0</td>\n",
              "      <td>311685.89</td>\n",
              "      <td>10835.0</td>\n",
              "      <td>0.0</td>\n",
              "      <td>6267.0</td>\n",
              "      <td>2719172.89</td>\n",
              "      <td>0</td>\n",
              "      <td>300850.89</td>\n",
              "      <td>-2401220.0</td>\n",
              "    </tr>\n",
              "  </tbody>\n",
              "</table>\n",
              "</div>"
            ],
            "text/plain": [
              "    step  type     amount  oldbalanceOrg  newbalanceOrig  oldbalanceDest  \\\n",
              "2      1     0     181.00          181.0             0.0             0.0   \n",
              "3      1     1     181.00          181.0             0.0         21182.0   \n",
              "15     1     1  229133.94        15325.0             0.0          5083.0   \n",
              "19     1     0  215310.30          705.0             0.0         22425.0   \n",
              "24     1     0  311685.89        10835.0             0.0          6267.0   \n",
              "\n",
              "    newbalanceDest  isFlaggedFraud  errorBalanceOrig  errorBalanceDest  \n",
              "2             0.00               0              0.00             181.0  \n",
              "3             0.00               0              0.00           21363.0  \n",
              "15        51513.44               0         213808.94          182703.5  \n",
              "19            0.00               0         214605.30          237735.3  \n",
              "24      2719172.89               0         300850.89        -2401220.0  "
            ]
          },
          "execution_count": 41,
          "metadata": {},
          "output_type": "execute_result"
        }
      ],
      "source": [
        "X.head()"
      ]
    },
    {
      "cell_type": "markdown",
      "metadata": {
        "colab_type": "text",
        "id": "7Ez0xcQQpbGf"
      },
      "source": [
        "**OVER-SAMPLING**"
      ]
    },
    {
      "cell_type": "code",
      "execution_count": 43,
      "metadata": {
        "colab": {
          "base_uri": "https://localhost:8080/",
          "height": 51
        },
        "colab_type": "code",
        "id": "sCEGR_C5peLj",
        "outputId": "35d2baaf-d3c1-4b29-8b2d-c80b4fa77a30"
      },
      "outputs": [],
      "source": [
        "import pandas as pd\n",
        "from sklearn.utils import resample\n",
        "\n",
        "# Combine them into one DataFrame for easier manipulation\n",
        "data = pd.concat([X, Y], axis=1)\n",
        "\n",
        "# Separate majority and minority classes\n",
        "majority = data[data[Y.name] == 0]\n",
        "minority = data[data[Y.name] == 1]\n",
        "\n",
        "# Upsample minority class\n",
        "minority_upsampled = resample(minority,\n",
        "                              replace=True,     # Sample with replacement\n",
        "                              n_samples=len(majority),    # Match number in majority class\n",
        "                              random_state=123) # Reproducible results\n",
        "\n",
        "# Combine majority class with upsampled minority class\n",
        "upsampled = pd.concat([majority, minority_upsampled])\n",
        "\n",
        "# Shuffle the dataset to mix up the row order\n",
        "upsampled = upsampled.sample(frac=1, random_state=123)\n",
        "\n",
        "# Split features and target\n",
        "X_resampled = upsampled.drop([Y.name], axis=1)\n",
        "Y_resampled = upsampled[Y.name]\n"
      ]
    },
    {
      "cell_type": "code",
      "execution_count": 44,
      "metadata": {},
      "outputs": [],
      "source": [
        "# split the dataset into training and testing sets\n",
        "from sklearn.model_selection import train_test_split\n",
        "\n",
        "x_train, x_test, y_train, y_test = train_test_split(X_resampled, Y_resampled, test_size=0.2, random_state=0)\n"
      ]
    },
    {
      "cell_type": "code",
      "execution_count": 45,
      "metadata": {
        "colab": {
          "base_uri": "https://localhost:8080/",
          "height": 85
        },
        "colab_type": "code",
        "id": "up74lZw7q9O_",
        "outputId": "4a72cae0-81ca-44c0-91a5-b3498fe2952c"
      },
      "outputs": [],
      "source": [
        "# applying standard scaling to the data to standardize the features\n",
        "from sklearn.preprocessing import StandardScaler\n",
        "\n",
        "scaler = StandardScaler()\n",
        "x_train = scaler.fit_transform(x_train)\n",
        "x_test = scaler.transform(x_test)\n"
      ]
    },
    {
      "cell_type": "code",
      "execution_count": 46,
      "metadata": {
        "colab": {},
        "colab_type": "code",
        "id": "fHAgbVICsQA3"
      },
      "outputs": [
        {
          "name": "stdout",
          "output_type": "stream",
          "text": [
            "The Area under Precision Recall Curve Score is 0.9206505742767288\n",
            "[[520854  31436]\n",
            " [ 28388 524201]]\n"
          ]
        }
      ],
      "source": [
        "# Model Training and Evaluation Using Logistic Regression\n",
        "\n",
        "from sklearn.linear_model import LogisticRegression\n",
        "from sklearn.metrics import average_precision_score, confusion_matrix\n",
        "\n",
        "# Initialize the model\n",
        "model = LogisticRegression()\n",
        "\n",
        "# Fit the model\n",
        "model.fit(x_train, y_train)\n",
        "\n",
        "# Predict test set results\n",
        "y_pred = model.predict(x_test)\n",
        "\n",
        "# Evaluate the model\n",
        "auprc = average_precision_score(y_test, y_pred)\n",
        "print(\"The Area under Precision Recall Curve Score is\", auprc)\n",
        "\n",
        "# Confusion matrix\n",
        "cm = confusion_matrix(y_test, y_pred)\n",
        "print(cm)\n"
      ]
    }
  ],
  "metadata": {
    "colab": {
      "collapsed_sections": [],
      "include_colab_link": true,
      "name": "Fraud detection in financial payment services.ipynb",
      "provenance": [],
      "version": "0.3.2"
    },
    "kernelspec": {
      "display_name": "Python 3",
      "name": "python3"
    },
    "language_info": {
      "codemirror_mode": {
        "name": "ipython",
        "version": 3
      },
      "file_extension": ".py",
      "mimetype": "text/x-python",
      "name": "python",
      "nbconvert_exporter": "python",
      "pygments_lexer": "ipython3",
      "version": "3.10.7"
    }
  },
  "nbformat": 4,
  "nbformat_minor": 0
}
